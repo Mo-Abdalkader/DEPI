{
 "cells": [
  {
   "cell_type": "code",
   "execution_count": null,
   "id": "6b82c08b-84e2-42ad-a07f-e0f668109703",
   "metadata": {},
   "outputs": [],
   "source": []
  },
  {
   "cell_type": "code",
   "execution_count": 1,
   "id": "0b6815cb-55a1-42b0-b2af-8a884298c765",
   "metadata": {},
   "outputs": [],
   "source": [
    "import warnings\n",
    "warnings.filterwarnings(\"ignore\")\n",
    "\n",
    "import numpy as np\n",
    "import pandas as pd\n",
    "import matplotlib.pyplot as plt\n",
    "import seaborn as sns\n",
    "\n",
    "from sklearn.metrics import mean_squared_error, mean_absolute_error\n",
    "from sklearn.preprocessing import MinMaxScaler, StandardScaler\n",
    "\n",
    "from sklearn.model_selection import train_test_split, cross_val_score, GridSearchCV"
   ]
  },
  {
   "cell_type": "code",
   "execution_count": 2,
   "id": "c2c6dde0-1414-46a2-a97d-f285e94c5a4d",
   "metadata": {},
   "outputs": [
    {
     "data": {
      "text/html": [
       "<div>\n",
       "<style scoped>\n",
       "    .dataframe tbody tr th:only-of-type {\n",
       "        vertical-align: middle;\n",
       "    }\n",
       "\n",
       "    .dataframe tbody tr th {\n",
       "        vertical-align: top;\n",
       "    }\n",
       "\n",
       "    .dataframe thead th {\n",
       "        text-align: right;\n",
       "    }\n",
       "</style>\n",
       "<table border=\"1\" class=\"dataframe\">\n",
       "  <thead>\n",
       "    <tr style=\"text-align: right;\">\n",
       "      <th></th>\n",
       "      <th>uranium_lead_ratio</th>\n",
       "      <th>carbon_14_ratio</th>\n",
       "      <th>radioactive_decay_series</th>\n",
       "      <th>stratigraphic_layer_depth</th>\n",
       "      <th>geological_period</th>\n",
       "      <th>paleomagnetic_data</th>\n",
       "      <th>inclusion_of_other_fossils</th>\n",
       "      <th>isotopic_composition</th>\n",
       "      <th>surrounding_rock_type</th>\n",
       "      <th>stratigraphic_position</th>\n",
       "      <th>fossil_size</th>\n",
       "      <th>fossil_weight</th>\n",
       "      <th>age</th>\n",
       "    </tr>\n",
       "  </thead>\n",
       "  <tbody>\n",
       "    <tr>\n",
       "      <th>0</th>\n",
       "      <td>0.738061</td>\n",
       "      <td>0.487707</td>\n",
       "      <td>0.907884</td>\n",
       "      <td>91.17</td>\n",
       "      <td>Cretaceous</td>\n",
       "      <td>Normal polarity</td>\n",
       "      <td>False</td>\n",
       "      <td>0.915951</td>\n",
       "      <td>Conglomerate</td>\n",
       "      <td>Middle</td>\n",
       "      <td>50.65</td>\n",
       "      <td>432.00</td>\n",
       "      <td>43523</td>\n",
       "    </tr>\n",
       "    <tr>\n",
       "      <th>1</th>\n",
       "      <td>0.560096</td>\n",
       "      <td>0.341738</td>\n",
       "      <td>1.121302</td>\n",
       "      <td>165.44</td>\n",
       "      <td>Cambrian</td>\n",
       "      <td>Normal polarity</td>\n",
       "      <td>False</td>\n",
       "      <td>0.803968</td>\n",
       "      <td>Limestone</td>\n",
       "      <td>Top</td>\n",
       "      <td>48.85</td>\n",
       "      <td>353.29</td>\n",
       "      <td>44112</td>\n",
       "    </tr>\n",
       "    <tr>\n",
       "      <th>2</th>\n",
       "      <td>0.424773</td>\n",
       "      <td>0.218493</td>\n",
       "      <td>0.103855</td>\n",
       "      <td>218.98</td>\n",
       "      <td>Cambrian</td>\n",
       "      <td>Normal polarity</td>\n",
       "      <td>True</td>\n",
       "      <td>0.792441</td>\n",
       "      <td>Shale</td>\n",
       "      <td>Bottom</td>\n",
       "      <td>37.66</td>\n",
       "      <td>371.33</td>\n",
       "      <td>43480</td>\n",
       "    </tr>\n",
       "    <tr>\n",
       "      <th>3</th>\n",
       "      <td>0.349958</td>\n",
       "      <td>0.704649</td>\n",
       "      <td>0.383617</td>\n",
       "      <td>51.09</td>\n",
       "      <td>Permian</td>\n",
       "      <td>Normal polarity</td>\n",
       "      <td>True</td>\n",
       "      <td>0.074636</td>\n",
       "      <td>Limestone</td>\n",
       "      <td>Bottom</td>\n",
       "      <td>39.10</td>\n",
       "      <td>232.84</td>\n",
       "      <td>30228</td>\n",
       "    </tr>\n",
       "    <tr>\n",
       "      <th>4</th>\n",
       "      <td>0.886811</td>\n",
       "      <td>0.777494</td>\n",
       "      <td>0.593254</td>\n",
       "      <td>313.72</td>\n",
       "      <td>Devonian</td>\n",
       "      <td>Normal polarity</td>\n",
       "      <td>True</td>\n",
       "      <td>1.646640</td>\n",
       "      <td>Shale</td>\n",
       "      <td>Top</td>\n",
       "      <td>90.84</td>\n",
       "      <td>277.67</td>\n",
       "      <td>67217</td>\n",
       "    </tr>\n",
       "  </tbody>\n",
       "</table>\n",
       "</div>"
      ],
      "text/plain": [
       "   uranium_lead_ratio  carbon_14_ratio  radioactive_decay_series  \\\n",
       "0            0.738061         0.487707                  0.907884   \n",
       "1            0.560096         0.341738                  1.121302   \n",
       "2            0.424773         0.218493                  0.103855   \n",
       "3            0.349958         0.704649                  0.383617   \n",
       "4            0.886811         0.777494                  0.593254   \n",
       "\n",
       "   stratigraphic_layer_depth geological_period paleomagnetic_data  \\\n",
       "0                      91.17        Cretaceous    Normal polarity   \n",
       "1                     165.44          Cambrian    Normal polarity   \n",
       "2                     218.98          Cambrian    Normal polarity   \n",
       "3                      51.09           Permian    Normal polarity   \n",
       "4                     313.72          Devonian    Normal polarity   \n",
       "\n",
       "   inclusion_of_other_fossils  isotopic_composition surrounding_rock_type  \\\n",
       "0                       False              0.915951          Conglomerate   \n",
       "1                       False              0.803968             Limestone   \n",
       "2                        True              0.792441                 Shale   \n",
       "3                        True              0.074636             Limestone   \n",
       "4                        True              1.646640                 Shale   \n",
       "\n",
       "  stratigraphic_position  fossil_size  fossil_weight    age  \n",
       "0                 Middle        50.65         432.00  43523  \n",
       "1                    Top        48.85         353.29  44112  \n",
       "2                 Bottom        37.66         371.33  43480  \n",
       "3                 Bottom        39.10         232.84  30228  \n",
       "4                    Top        90.84         277.67  67217  "
      ]
     },
     "execution_count": 2,
     "metadata": {},
     "output_type": "execute_result"
    }
   ],
   "source": [
    "train_data = pd.read_csv(r\"train_data.csv\")\n",
    "test_data  = pd.read_csv(r\"test_data.csv\")\n",
    "train_data.head()"
   ]
  },
  {
   "cell_type": "code",
   "execution_count": 3,
   "id": "0a636a13-54cc-41dd-b712-acb51f3936f9",
   "metadata": {},
   "outputs": [
    {
     "data": {
      "text/html": [
       "<div>\n",
       "<style scoped>\n",
       "    .dataframe tbody tr th:only-of-type {\n",
       "        vertical-align: middle;\n",
       "    }\n",
       "\n",
       "    .dataframe tbody tr th {\n",
       "        vertical-align: top;\n",
       "    }\n",
       "\n",
       "    .dataframe thead th {\n",
       "        text-align: right;\n",
       "    }\n",
       "</style>\n",
       "<table border=\"1\" class=\"dataframe\">\n",
       "  <thead>\n",
       "    <tr style=\"text-align: right;\">\n",
       "      <th></th>\n",
       "      <th>uranium_lead_ratio</th>\n",
       "      <th>carbon_14_ratio</th>\n",
       "      <th>radioactive_decay_series</th>\n",
       "      <th>stratigraphic_layer_depth</th>\n",
       "      <th>geological_period</th>\n",
       "      <th>paleomagnetic_data</th>\n",
       "      <th>inclusion_of_other_fossils</th>\n",
       "      <th>isotopic_composition</th>\n",
       "      <th>surrounding_rock_type</th>\n",
       "      <th>stratigraphic_position</th>\n",
       "      <th>fossil_size</th>\n",
       "      <th>fossil_weight</th>\n",
       "      <th>age</th>\n",
       "    </tr>\n",
       "  </thead>\n",
       "  <tbody>\n",
       "    <tr>\n",
       "      <th>0</th>\n",
       "      <td>0.469986</td>\n",
       "      <td>1.000000</td>\n",
       "      <td>0.667595</td>\n",
       "      <td>29.58</td>\n",
       "      <td>Triassic</td>\n",
       "      <td>Normal polarity</td>\n",
       "      <td>False</td>\n",
       "      <td>0.583560</td>\n",
       "      <td>Limestone</td>\n",
       "      <td>Bottom</td>\n",
       "      <td>120.12</td>\n",
       "      <td>73.83</td>\n",
       "      <td>41072</td>\n",
       "    </tr>\n",
       "    <tr>\n",
       "      <th>1</th>\n",
       "      <td>0.619865</td>\n",
       "      <td>0.474208</td>\n",
       "      <td>1.218381</td>\n",
       "      <td>69.87</td>\n",
       "      <td>Cretaceous</td>\n",
       "      <td>Reversed polarity</td>\n",
       "      <td>True</td>\n",
       "      <td>0.942719</td>\n",
       "      <td>Shale</td>\n",
       "      <td>Middle</td>\n",
       "      <td>72.82</td>\n",
       "      <td>191.68</td>\n",
       "      <td>42085</td>\n",
       "    </tr>\n",
       "    <tr>\n",
       "      <th>2</th>\n",
       "      <td>0.767736</td>\n",
       "      <td>0.478731</td>\n",
       "      <td>0.119801</td>\n",
       "      <td>96.38</td>\n",
       "      <td>Cretaceous</td>\n",
       "      <td>Normal polarity</td>\n",
       "      <td>False</td>\n",
       "      <td>0.377531</td>\n",
       "      <td>Sandstone</td>\n",
       "      <td>Bottom</td>\n",
       "      <td>105.47</td>\n",
       "      <td>82.25</td>\n",
       "      <td>50436</td>\n",
       "    </tr>\n",
       "    <tr>\n",
       "      <th>3</th>\n",
       "      <td>0.275121</td>\n",
       "      <td>0.400594</td>\n",
       "      <td>0.634760</td>\n",
       "      <td>134.10</td>\n",
       "      <td>Triassic</td>\n",
       "      <td>Normal polarity</td>\n",
       "      <td>True</td>\n",
       "      <td>0.323820</td>\n",
       "      <td>Sandstone</td>\n",
       "      <td>Middle</td>\n",
       "      <td>94.99</td>\n",
       "      <td>47.99</td>\n",
       "      <td>25923</td>\n",
       "    </tr>\n",
       "    <tr>\n",
       "      <th>4</th>\n",
       "      <td>0.407470</td>\n",
       "      <td>0.039705</td>\n",
       "      <td>0.824597</td>\n",
       "      <td>124.10</td>\n",
       "      <td>Triassic</td>\n",
       "      <td>Normal polarity</td>\n",
       "      <td>False</td>\n",
       "      <td>1.219120</td>\n",
       "      <td>Shale</td>\n",
       "      <td>Middle</td>\n",
       "      <td>139.93</td>\n",
       "      <td>532.62</td>\n",
       "      <td>30272</td>\n",
       "    </tr>\n",
       "  </tbody>\n",
       "</table>\n",
       "</div>"
      ],
      "text/plain": [
       "   uranium_lead_ratio  carbon_14_ratio  radioactive_decay_series  \\\n",
       "0            0.469986         1.000000                  0.667595   \n",
       "1            0.619865         0.474208                  1.218381   \n",
       "2            0.767736         0.478731                  0.119801   \n",
       "3            0.275121         0.400594                  0.634760   \n",
       "4            0.407470         0.039705                  0.824597   \n",
       "\n",
       "   stratigraphic_layer_depth geological_period paleomagnetic_data  \\\n",
       "0                      29.58          Triassic    Normal polarity   \n",
       "1                      69.87        Cretaceous  Reversed polarity   \n",
       "2                      96.38        Cretaceous    Normal polarity   \n",
       "3                     134.10          Triassic    Normal polarity   \n",
       "4                     124.10          Triassic    Normal polarity   \n",
       "\n",
       "   inclusion_of_other_fossils  isotopic_composition surrounding_rock_type  \\\n",
       "0                       False              0.583560             Limestone   \n",
       "1                        True              0.942719                 Shale   \n",
       "2                       False              0.377531             Sandstone   \n",
       "3                        True              0.323820             Sandstone   \n",
       "4                       False              1.219120                 Shale   \n",
       "\n",
       "  stratigraphic_position  fossil_size  fossil_weight    age  \n",
       "0                 Bottom       120.12          73.83  41072  \n",
       "1                 Middle        72.82         191.68  42085  \n",
       "2                 Bottom       105.47          82.25  50436  \n",
       "3                 Middle        94.99          47.99  25923  \n",
       "4                 Middle       139.93         532.62  30272  "
      ]
     },
     "execution_count": 3,
     "metadata": {},
     "output_type": "execute_result"
    }
   ],
   "source": [
    "test_data.head()"
   ]
  },
  {
   "cell_type": "code",
   "execution_count": 4,
   "id": "e40621ed-944c-4514-b241-9eba65e122cc",
   "metadata": {},
   "outputs": [
    {
     "name": "stdout",
     "output_type": "stream",
     "text": [
      "<class 'pandas.core.frame.DataFrame'>\n",
      "RangeIndex: 4398 entries, 0 to 4397\n",
      "Data columns (total 13 columns):\n",
      " #   Column                      Non-Null Count  Dtype  \n",
      "---  ------                      --------------  -----  \n",
      " 0   uranium_lead_ratio          4398 non-null   float64\n",
      " 1   carbon_14_ratio             4398 non-null   float64\n",
      " 2   radioactive_decay_series    4398 non-null   float64\n",
      " 3   stratigraphic_layer_depth   4398 non-null   float64\n",
      " 4   geological_period           4398 non-null   object \n",
      " 5   paleomagnetic_data          4398 non-null   object \n",
      " 6   inclusion_of_other_fossils  4398 non-null   bool   \n",
      " 7   isotopic_composition        4398 non-null   float64\n",
      " 8   surrounding_rock_type       4398 non-null   object \n",
      " 9   stratigraphic_position      4398 non-null   object \n",
      " 10  fossil_size                 4398 non-null   float64\n",
      " 11  fossil_weight               4398 non-null   float64\n",
      " 12  age                         4398 non-null   int64  \n",
      "dtypes: bool(1), float64(7), int64(1), object(4)\n",
      "memory usage: 416.7+ KB\n"
     ]
    }
   ],
   "source": [
    "train_data.info()"
   ]
  },
  {
   "cell_type": "code",
   "execution_count": 5,
   "id": "93efb3e9-d88c-493a-920c-ef568c3d37f0",
   "metadata": {},
   "outputs": [
    {
     "data": {
      "text/html": [
       "<div>\n",
       "<style scoped>\n",
       "    .dataframe tbody tr th:only-of-type {\n",
       "        vertical-align: middle;\n",
       "    }\n",
       "\n",
       "    .dataframe tbody tr th {\n",
       "        vertical-align: top;\n",
       "    }\n",
       "\n",
       "    .dataframe thead th {\n",
       "        text-align: right;\n",
       "    }\n",
       "</style>\n",
       "<table border=\"1\" class=\"dataframe\">\n",
       "  <thead>\n",
       "    <tr style=\"text-align: right;\">\n",
       "      <th></th>\n",
       "      <th>uranium_lead_ratio</th>\n",
       "      <th>carbon_14_ratio</th>\n",
       "      <th>radioactive_decay_series</th>\n",
       "      <th>stratigraphic_layer_depth</th>\n",
       "      <th>isotopic_composition</th>\n",
       "      <th>fossil_size</th>\n",
       "      <th>fossil_weight</th>\n",
       "      <th>age</th>\n",
       "    </tr>\n",
       "  </thead>\n",
       "  <tbody>\n",
       "    <tr>\n",
       "      <th>count</th>\n",
       "      <td>4398.000000</td>\n",
       "      <td>4398.000000</td>\n",
       "      <td>4398.000000</td>\n",
       "      <td>4398.000000</td>\n",
       "      <td>4398.000000</td>\n",
       "      <td>4398.000000</td>\n",
       "      <td>4398.000000</td>\n",
       "      <td>4398.000000</td>\n",
       "    </tr>\n",
       "    <tr>\n",
       "      <th>mean</th>\n",
       "      <td>0.486938</td>\n",
       "      <td>0.430116</td>\n",
       "      <td>0.532054</td>\n",
       "      <td>152.832801</td>\n",
       "      <td>0.938315</td>\n",
       "      <td>70.702460</td>\n",
       "      <td>326.655177</td>\n",
       "      <td>40586.656435</td>\n",
       "    </tr>\n",
       "    <tr>\n",
       "      <th>std</th>\n",
       "      <td>0.257132</td>\n",
       "      <td>0.233536</td>\n",
       "      <td>0.287929</td>\n",
       "      <td>86.272234</td>\n",
       "      <td>0.521643</td>\n",
       "      <td>37.352584</td>\n",
       "      <td>187.032333</td>\n",
       "      <td>15200.700905</td>\n",
       "    </tr>\n",
       "    <tr>\n",
       "      <th>min</th>\n",
       "      <td>0.000241</td>\n",
       "      <td>0.000244</td>\n",
       "      <td>0.000076</td>\n",
       "      <td>0.130000</td>\n",
       "      <td>0.000275</td>\n",
       "      <td>0.130000</td>\n",
       "      <td>0.620000</td>\n",
       "      <td>4208.000000</td>\n",
       "    </tr>\n",
       "    <tr>\n",
       "      <th>25%</th>\n",
       "      <td>0.294091</td>\n",
       "      <td>0.246269</td>\n",
       "      <td>0.316775</td>\n",
       "      <td>85.390000</td>\n",
       "      <td>0.533519</td>\n",
       "      <td>42.487500</td>\n",
       "      <td>181.047500</td>\n",
       "      <td>29766.250000</td>\n",
       "    </tr>\n",
       "    <tr>\n",
       "      <th>50%</th>\n",
       "      <td>0.473715</td>\n",
       "      <td>0.416046</td>\n",
       "      <td>0.511830</td>\n",
       "      <td>146.000000</td>\n",
       "      <td>0.905684</td>\n",
       "      <td>68.785000</td>\n",
       "      <td>308.260000</td>\n",
       "      <td>39567.000000</td>\n",
       "    </tr>\n",
       "    <tr>\n",
       "      <th>75%</th>\n",
       "      <td>0.658012</td>\n",
       "      <td>0.590752</td>\n",
       "      <td>0.723805</td>\n",
       "      <td>211.932500</td>\n",
       "      <td>1.289307</td>\n",
       "      <td>96.440000</td>\n",
       "      <td>455.520000</td>\n",
       "      <td>50550.500000</td>\n",
       "    </tr>\n",
       "    <tr>\n",
       "      <th>max</th>\n",
       "      <td>1.533270</td>\n",
       "      <td>1.000000</td>\n",
       "      <td>1.513325</td>\n",
       "      <td>494.200000</td>\n",
       "      <td>3.071434</td>\n",
       "      <td>216.390000</td>\n",
       "      <td>1010.090000</td>\n",
       "      <td>103079.000000</td>\n",
       "    </tr>\n",
       "  </tbody>\n",
       "</table>\n",
       "</div>"
      ],
      "text/plain": [
       "       uranium_lead_ratio  carbon_14_ratio  radioactive_decay_series  \\\n",
       "count         4398.000000      4398.000000               4398.000000   \n",
       "mean             0.486938         0.430116                  0.532054   \n",
       "std              0.257132         0.233536                  0.287929   \n",
       "min              0.000241         0.000244                  0.000076   \n",
       "25%              0.294091         0.246269                  0.316775   \n",
       "50%              0.473715         0.416046                  0.511830   \n",
       "75%              0.658012         0.590752                  0.723805   \n",
       "max              1.533270         1.000000                  1.513325   \n",
       "\n",
       "       stratigraphic_layer_depth  isotopic_composition  fossil_size  \\\n",
       "count                4398.000000           4398.000000  4398.000000   \n",
       "mean                  152.832801              0.938315    70.702460   \n",
       "std                    86.272234              0.521643    37.352584   \n",
       "min                     0.130000              0.000275     0.130000   \n",
       "25%                    85.390000              0.533519    42.487500   \n",
       "50%                   146.000000              0.905684    68.785000   \n",
       "75%                   211.932500              1.289307    96.440000   \n",
       "max                   494.200000              3.071434   216.390000   \n",
       "\n",
       "       fossil_weight            age  \n",
       "count    4398.000000    4398.000000  \n",
       "mean      326.655177   40586.656435  \n",
       "std       187.032333   15200.700905  \n",
       "min         0.620000    4208.000000  \n",
       "25%       181.047500   29766.250000  \n",
       "50%       308.260000   39567.000000  \n",
       "75%       455.520000   50550.500000  \n",
       "max      1010.090000  103079.000000  "
      ]
     },
     "execution_count": 5,
     "metadata": {},
     "output_type": "execute_result"
    }
   ],
   "source": [
    "train_data.describe()"
   ]
  },
  {
   "cell_type": "code",
   "execution_count": 6,
   "id": "b8bcf3db-4c9b-448b-ba1f-be65b3f870c0",
   "metadata": {},
   "outputs": [
    {
     "data": {
      "image/png": "[encoded data removed]",
      "text/plain": [
       "<Figure size 1200x800 with 2 Axes>"
      ]
     },
     "metadata": {},
     "output_type": "display_data"
    }
   ],
   "source": [
    "numerical_cols = train_data.select_dtypes(include=['number'])\n",
    "corr_matrix = numerical_cols.corr()\n",
    "\n",
    "# Plot the heatmap\n",
    "plt.figure(figsize=(12, 8))\n",
    "sns.heatmap(corr_matrix, annot=True, cmap='coolwarm', center=0)\n",
    "plt.title('Correlation Matrix of Numerical Columns')\n",
    "plt.show()"
   ]
  },
  {
   "cell_type": "code",
   "execution_count": 7,
   "id": "ad80e978-eb88-4f3b-96c3-150993939010",
   "metadata": {},
   "outputs": [
    {
     "data": {
      "image/png": "[encoded data removed]",
      "text/plain": [
       "<Figure size 640x480 with 1 Axes>"
      ]
     },
     "metadata": {},
     "output_type": "display_data"
    }
   ],
   "source": [
    "plt.boxplot(train_data[\"age\"])\n",
    "plt.show()"
   ]
  },
  {
   "cell_type": "code",
   "execution_count": 8,
   "id": "8d6983c2-0536-42cc-bdad-3c88543cbee6",
   "metadata": {},
   "outputs": [
    {
     "name": "stdout",
     "output_type": "stream",
     "text": [
      "Outliers in Age :  46\n"
     ]
    },
    {
     "data": {
      "image/png": "[encoded data removed]",
      "text/plain": [
       "<Figure size 640x480 with 1 Axes>"
      ]
     },
     "metadata": {},
     "output_type": "display_data"
    }
   ],
   "source": [
    "print(f\"Outliers in Age : \", len(train_data[train_data[\"age\"] > 80000]))\n",
    "\n",
    "train_data = train_data[train_data[\"age\"] < 80000]\n",
    "plt.boxplot(train_data[\"age\"])\n",
    "plt.show()"
   ]
  },
  {
   "cell_type": "code",
   "execution_count": 9,
   "id": "38bf4152-c712-458e-aaf6-2bac04aa6164",
   "metadata": {},
   "outputs": [
    {
     "data": {
      "image/png": "[encoded data removed]",
      "text/plain": [
       "<Figure size 640x480 with 1 Axes>"
      ]
     },
     "metadata": {},
     "output_type": "display_data"
    }
   ],
   "source": [
    "plt.boxplot(train_data[\"uranium_lead_ratio\"])\n",
    "plt.show()"
   ]
  },
  {
   "cell_type": "code",
   "execution_count": 10,
   "id": "1fe2100b-7858-4683-be5b-d39c24840097",
   "metadata": {},
   "outputs": [
    {
     "name": "stdout",
     "output_type": "stream",
     "text": [
      "Outliers in uranium_lead_ratio :  27\n"
     ]
    },
    {
     "data": {
      "image/png": "[encoded data removed]",
      "text/plain": [
       "<Figure size 640x480 with 1 Axes>"
      ]
     },
     "metadata": {},
     "output_type": "display_data"
    }
   ],
   "source": [
    "print(f\"Outliers in uranium_lead_ratio : \", len(train_data[train_data[\"uranium_lead_ratio\"] > 1.1]))\n",
    "\n",
    "train_data = train_data[train_data[\"uranium_lead_ratio\"] < 1.1]\n",
    "plt.boxplot(train_data[\"uranium_lead_ratio\"])\n",
    "plt.show()"
   ]
  },
  {
   "cell_type": "code",
   "execution_count": 11,
   "id": "bac00b8c-3ad5-4378-8218-700f19c27361",
   "metadata": {},
   "outputs": [
    {
     "data": {
      "image/png": "[encoded data removed]",
      "text/plain": [
       "<Figure size 640x480 with 1 Axes>"
      ]
     },
     "metadata": {},
     "output_type": "display_data"
    }
   ],
   "source": [
    "plt.boxplot(train_data[\"carbon_14_ratio\"])\n",
    "plt.show()"
   ]
  },
  {
   "cell_type": "code",
   "execution_count": 12,
   "id": "7a6deb73-b273-4161-b7d2-e82d08732d21",
   "metadata": {},
   "outputs": [
    {
     "data": {
      "image/png": "[encoded data removed]",
      "text/plain": [
       "<Figure size 640x480 with 1 Axes>"
      ]
     },
     "metadata": {},
     "output_type": "display_data"
    }
   ],
   "source": [
    "plt.boxplot(train_data[\"radioactive_decay_series\"])\n",
    "plt.show()"
   ]
  },
  {
   "cell_type": "code",
   "execution_count": 13,
   "id": "165235b0-0c35-4fff-bda9-67c3cf8efa7e",
   "metadata": {},
   "outputs": [
    {
     "name": "stdout",
     "output_type": "stream",
     "text": [
      "Outliers in radioactive_decay_series :  22\n"
     ]
    },
    {
     "data": {
      "image/png": "[encoded data removed]",
      "text/plain": [
       "<Figure size 640x480 with 1 Axes>"
      ]
     },
     "metadata": {},
     "output_type": "display_data"
    }
   ],
   "source": [
    "print(f\"Outliers in radioactive_decay_series : \", len(train_data[train_data[\"radioactive_decay_series\"] > 1.3]))\n",
    "\n",
    "train_data = train_data[train_data[\"radioactive_decay_series\"] < 1.3]\n",
    "plt.boxplot(train_data[\"radioactive_decay_series\"])\n",
    "plt.show()"
   ]
  },
  {
   "cell_type": "code",
   "execution_count": 14,
   "id": "169270e2-7be1-4074-887f-6b814bd87a66",
   "metadata": {},
   "outputs": [
    {
     "data": {
      "image/png": "[encoded data removed]",
      "text/plain": [
       "<Figure size 640x480 with 1 Axes>"
      ]
     },
     "metadata": {},
     "output_type": "display_data"
    }
   ],
   "source": [
    "plt.boxplot(train_data[\"stratigraphic_layer_depth\"])\n",
    "plt.show()"
   ]
  },
  {
   "cell_type": "code",
   "execution_count": 15,
   "id": "9e9cd882-75d9-40c4-8041-c57a723e465a",
   "metadata": {},
   "outputs": [
    {
     "name": "stdout",
     "output_type": "stream",
     "text": [
      "Outliers in stratigraphic_layer_depth :  32\n"
     ]
    },
    {
     "data": {
      "image/png": "[encoded data removed]",
      "text/plain": [
       "<Figure size 640x480 with 1 Axes>"
      ]
     },
     "metadata": {},
     "output_type": "display_data"
    }
   ],
   "source": [
    "print(f\"Outliers in stratigraphic_layer_depth : \", len(train_data[train_data[\"stratigraphic_layer_depth\"] > 390]))\n",
    "\n",
    "train_data = train_data[train_data[\"stratigraphic_layer_depth\"] < 390]\n",
    "plt.boxplot(train_data[\"stratigraphic_layer_depth\"])\n",
    "plt.show()"
   ]
  },
  {
   "cell_type": "code",
   "execution_count": null,
   "id": "fd1064d3-9797-407e-943c-86328b006068",
   "metadata": {},
   "outputs": [],
   "source": []
  },
  {
   "cell_type": "code",
   "execution_count": 16,
   "id": "b5015fbf-1992-486f-8b71-ef51cfe693a6",
   "metadata": {},
   "outputs": [
    {
     "data": {
      "text/html": [
       "<div>\n",
       "<style scoped>\n",
       "    .dataframe tbody tr th:only-of-type {\n",
       "        vertical-align: middle;\n",
       "    }\n",
       "\n",
       "    .dataframe tbody tr th {\n",
       "        vertical-align: top;\n",
       "    }\n",
       "\n",
       "    .dataframe thead th {\n",
       "        text-align: right;\n",
       "    }\n",
       "</style>\n",
       "<table border=\"1\" class=\"dataframe\">\n",
       "  <thead>\n",
       "    <tr style=\"text-align: right;\">\n",
       "      <th></th>\n",
       "      <th>geological_period</th>\n",
       "      <th>paleomagnetic_data</th>\n",
       "      <th>surrounding_rock_type</th>\n",
       "      <th>stratigraphic_position</th>\n",
       "    </tr>\n",
       "  </thead>\n",
       "  <tbody>\n",
       "    <tr>\n",
       "      <th>count</th>\n",
       "      <td>4271</td>\n",
       "      <td>4271</td>\n",
       "      <td>4271</td>\n",
       "      <td>4271</td>\n",
       "    </tr>\n",
       "    <tr>\n",
       "      <th>unique</th>\n",
       "      <td>11</td>\n",
       "      <td>2</td>\n",
       "      <td>4</td>\n",
       "      <td>3</td>\n",
       "    </tr>\n",
       "    <tr>\n",
       "      <th>top</th>\n",
       "      <td>Cambrian</td>\n",
       "      <td>Normal polarity</td>\n",
       "      <td>Sandstone</td>\n",
       "      <td>Bottom</td>\n",
       "    </tr>\n",
       "    <tr>\n",
       "      <th>freq</th>\n",
       "      <td>848</td>\n",
       "      <td>3072</td>\n",
       "      <td>1454</td>\n",
       "      <td>2583</td>\n",
       "    </tr>\n",
       "  </tbody>\n",
       "</table>\n",
       "</div>"
      ],
      "text/plain": [
       "       geological_period paleomagnetic_data surrounding_rock_type  \\\n",
       "count               4271               4271                  4271   \n",
       "unique                11                  2                     4   \n",
       "top             Cambrian    Normal polarity             Sandstone   \n",
       "freq                 848               3072                  1454   \n",
       "\n",
       "       stratigraphic_position  \n",
       "count                    4271  \n",
       "unique                      3  \n",
       "top                    Bottom  \n",
       "freq                     2583  "
      ]
     },
     "execution_count": 16,
     "metadata": {},
     "output_type": "execute_result"
    }
   ],
   "source": [
    "train_data.describe(include=\"O\")"
   ]
  },
  {
   "cell_type": "code",
   "execution_count": 17,
   "id": "b151dffb-ef59-4884-a937-0dad3c1df2e9",
   "metadata": {},
   "outputs": [
    {
     "data": {
      "text/plain": [
       "array([[<Axes: title={'center': 'uranium_lead_ratio'}>,\n",
       "        <Axes: title={'center': 'carbon_14_ratio'}>,\n",
       "        <Axes: title={'center': 'radioactive_decay_series'}>],\n",
       "       [<Axes: title={'center': 'stratigraphic_layer_depth'}>,\n",
       "        <Axes: title={'center': 'isotopic_composition'}>,\n",
       "        <Axes: title={'center': 'fossil_size'}>],\n",
       "       [<Axes: title={'center': 'fossil_weight'}>,\n",
       "        <Axes: title={'center': 'age'}>, <Axes: >]], dtype=object)"
      ]
     },
     "execution_count": 17,
     "metadata": {},
     "output_type": "execute_result"
    },
    {
     "data": {
      "image/png": "[encoded data removed]",
      "text/plain": [
       "<Figure size 640x480 with 9 Axes>"
      ]
     },
     "metadata": {},
     "output_type": "display_data"
    }
   ],
   "source": [
    "train_data.hist()"
   ]
  },
  {
   "cell_type": "code",
   "execution_count": 18,
   "id": "e6474630-3842-47dd-a5e1-95c97022eb73",
   "metadata": {},
   "outputs": [
    {
     "data": {
      "text/plain": [
       "geological_period\n",
       "Cambrian         848\n",
       "Triassic         663\n",
       "Cretaceous       588\n",
       "Devonian         481\n",
       "Jurassic         477\n",
       "Paleogene        393\n",
       "Permian          353\n",
       "Neogene          304\n",
       "Ordovician        97\n",
       "Carboniferous     51\n",
       "Silurian          16\n",
       "Name: count, dtype: int64"
      ]
     },
     "execution_count": 18,
     "metadata": {},
     "output_type": "execute_result"
    }
   ],
   "source": [
    "train_data[\"geological_period\"].value_counts()"
   ]
  },
  {
   "cell_type": "code",
   "execution_count": 19,
   "id": "446a70d1-f51b-4ffc-b2f6-5ee7807a92aa",
   "metadata": {},
   "outputs": [
    {
     "data": {
      "text/plain": [
       "geological_period\n",
       "Paleogene        37952.272265\n",
       "Carboniferous    38049.588235\n",
       "Neogene          38514.203947\n",
       "Ordovician       38676.567010\n",
       "Cretaceous       38707.950680\n",
       "Jurassic         38970.754717\n",
       "Devonian         39818.989605\n",
       "Triassic         40422.634992\n",
       "Permian          41113.937677\n",
       "Cambrian         41490.091981\n",
       "Silurian         42443.375000\n",
       "Name: age, dtype: float64"
      ]
     },
     "execution_count": 19,
     "metadata": {},
     "output_type": "execute_result"
    }
   ],
   "source": [
    "# train_data[\"geological_period\"].value_counts()\n",
    "train_data.groupby([\"geological_period\"])[\"age\"].mean().sort_values()"
   ]
  },
  {
   "cell_type": "code",
   "execution_count": 20,
   "id": "c214794b-eec6-45cc-90a4-916a799e9d10",
   "metadata": {},
   "outputs": [],
   "source": [
    "# train_data[\"geological_period\"].replace({\"Paleogene\":0, \"Neogene\":1, \"Carboniferous\":2, \"Cretaceous\":3, \"Ordovician\":4, \"Jurassic\":5, \"Devonian\":6, \"Triassic\":7, \"Permian\":8, \"Cambrian\":9, \"Silurian\":10}, inplace=True)\n",
    "# test_data[\"geological_period\"].replace({\"Paleogene\":0, \"Neogene\":1, \"Carboniferous\":2, \"Cretaceous\":3, \"Ordovician\":4, \"Jurassic\":5, \"Devonian\":6, \"Triassic\":7, \"Permian\":8, \"Cambrian\":9, \"Silurian\":10}, inplace=True)"
   ]
  },
  {
   "cell_type": "code",
   "execution_count": null,
   "id": "e0d2f15f-4236-4f0c-8507-66685ece4f62",
   "metadata": {},
   "outputs": [],
   "source": []
  },
  {
   "cell_type": "code",
   "execution_count": 21,
   "id": "d95d400a-1362-4cda-baa8-dc0fedab7249",
   "metadata": {},
   "outputs": [
    {
     "data": {
      "text/plain": [
       "paleomagnetic_data\n",
       "Normal polarity      3072\n",
       "Reversed polarity    1199\n",
       "Name: count, dtype: int64"
      ]
     },
     "execution_count": 21,
     "metadata": {},
     "output_type": "execute_result"
    }
   ],
   "source": [
    "train_data[\"paleomagnetic_data\"].value_counts()"
   ]
  },
  {
   "cell_type": "code",
   "execution_count": 22,
   "id": "b8871eb5-d774-41d9-9915-11b32b5c5b8e",
   "metadata": {},
   "outputs": [
    {
     "data": {
      "text/plain": [
       "paleomagnetic_data\n",
       "Normal polarity      39377.934570\n",
       "Reversed polarity    40888.306922\n",
       "Name: age, dtype: float64"
      ]
     },
     "execution_count": 22,
     "metadata": {},
     "output_type": "execute_result"
    }
   ],
   "source": [
    "train_data.groupby([\"paleomagnetic_data\"])[\"age\"].mean().sort_values()"
   ]
  },
  {
   "cell_type": "code",
   "execution_count": 23,
   "id": "b4843c25-939e-4e86-9b5d-04aebfd30de0",
   "metadata": {},
   "outputs": [],
   "source": [
    "# train_data[\"paleomagnetic_data\"].replace({\"Normal polarity\":0, \"Reversed polarity\":1}, inplace=True)\n",
    "# test_data[\"paleomagnetic_data\"].replace({\"Normal polarity\":0, \"Reversed polarity\":1}, inplace=True)"
   ]
  },
  {
   "cell_type": "code",
   "execution_count": null,
   "id": "fe898a49-00a3-476c-89c5-c7f54bb6191e",
   "metadata": {},
   "outputs": [],
   "source": []
  },
  {
   "cell_type": "code",
   "execution_count": 24,
   "id": "8fa1d289-1689-4e7e-b988-af1fee0ad967",
   "metadata": {},
   "outputs": [
    {
     "data": {
      "text/plain": [
       "surrounding_rock_type\n",
       "Sandstone       1454\n",
       "Limestone       1135\n",
       "Shale           1100\n",
       "Conglomerate     582\n",
       "Name: count, dtype: int64"
      ]
     },
     "execution_count": 24,
     "metadata": {},
     "output_type": "execute_result"
    }
   ],
   "source": [
    "train_data[\"surrounding_rock_type\"].value_counts()"
   ]
  },
  {
   "cell_type": "code",
   "execution_count": 25,
   "id": "a2c95e1d-f776-4036-8a7c-4988fd7f3efc",
   "metadata": {},
   "outputs": [
    {
     "data": {
      "text/plain": [
       "surrounding_rock_type\n",
       "Shale           39293.628182\n",
       "Conglomerate    39416.441581\n",
       "Limestone       39921.432599\n",
       "Sandstone       40247.530261\n",
       "Name: age, dtype: float64"
      ]
     },
     "execution_count": 25,
     "metadata": {},
     "output_type": "execute_result"
    }
   ],
   "source": [
    "train_data.groupby([\"surrounding_rock_type\"])[\"age\"].mean().sort_values()"
   ]
  },
  {
   "cell_type": "code",
   "execution_count": 26,
   "id": "4c60dc58-9726-4f89-9f91-b86dfaabea12",
   "metadata": {},
   "outputs": [],
   "source": [
    "# train_data[\"surrounding_rock_type\"].replace({\"Conglomerate\":0, \"Shale\":1, \"Limestone\":2, \"Sandstone\":3}, inplace=True)\n",
    "# test_data[\"surrounding_rock_type\"].replace({\"Conglomerate\":0, \"Shale\":1, \"Limestone\":2, \"Sandstone\":3}, inplace=True)"
   ]
  },
  {
   "cell_type": "code",
   "execution_count": null,
   "id": "ab3e0ff3-1dda-4421-aa44-8e5c2193056e",
   "metadata": {},
   "outputs": [],
   "source": []
  },
  {
   "cell_type": "code",
   "execution_count": 27,
   "id": "410f5de7-451b-4f20-984f-46d429884ba6",
   "metadata": {},
   "outputs": [
    {
     "data": {
      "text/plain": [
       "stratigraphic_position\n",
       "Bottom    2583\n",
       "Middle    1237\n",
       "Top        451\n",
       "Name: count, dtype: int64"
      ]
     },
     "execution_count": 27,
     "metadata": {},
     "output_type": "execute_result"
    }
   ],
   "source": [
    "train_data[\"stratigraphic_position\"].value_counts()"
   ]
  },
  {
   "cell_type": "code",
   "execution_count": 28,
   "id": "78814990-2dc2-4202-80a0-09ef7940c994",
   "metadata": {},
   "outputs": [
    {
     "data": {
      "text/plain": [
       "stratigraphic_position\n",
       "Middle    35845.187551\n",
       "Top       36155.110865\n",
       "Bottom    42333.582269\n",
       "Name: age, dtype: float64"
      ]
     },
     "execution_count": 28,
     "metadata": {},
     "output_type": "execute_result"
    }
   ],
   "source": [
    "train_data.groupby([\"stratigraphic_position\"])[\"age\"].mean().sort_values()"
   ]
  },
  {
   "cell_type": "code",
   "execution_count": 29,
   "id": "c4d3f3c7-abb0-48c2-aa59-2ddc6694ebda",
   "metadata": {},
   "outputs": [],
   "source": [
    "train_data[\"stratigraphic_position\"].replace({\"Middle\":0, \"Top\":1, \"Bottom\":2}, inplace=True)\n",
    "test_data[\"stratigraphic_position\"].replace({\"Middle\":0, \"Top\":1, \"Bottom\":2}, inplace=True)"
   ]
  },
  {
   "cell_type": "code",
   "execution_count": null,
   "id": "e650426b-35ec-4509-b78c-10e408f350de",
   "metadata": {},
   "outputs": [],
   "source": []
  },
  {
   "cell_type": "code",
   "execution_count": 30,
   "id": "773b3465-d95f-4a1f-aad5-dd115d6e31ad",
   "metadata": {},
   "outputs": [],
   "source": [
    "cols = [\"uranium_lead_ratio\", \"carbon_14_ratio\", \"radioactive_decay_series\", \"stratigraphic_layer_depth\", \"stratigraphic_position\", \"age\"] # \"geological_period\", \"paleomagnetic_data\", stratigraphic_position"
   ]
  },
  {
   "cell_type": "code",
   "execution_count": 31,
   "id": "a603115b-92bb-4acc-a5f8-2ec17b087e50",
   "metadata": {},
   "outputs": [],
   "source": [
    "for col in train_data.columns:\n",
    "    if train_data[col].dtype == object and col in cols: # and col in cols\n",
    "        train_data = pd.get_dummies(train_data, columns=[col])\n",
    "        test_data  = pd.get_dummies(test_data, columns=[col])"
   ]
  },
  {
   "cell_type": "code",
   "execution_count": 32,
   "id": "96d93a63-dcc3-448b-88de-108b54cbb4ca",
   "metadata": {},
   "outputs": [
    {
     "data": {
      "text/html": [
       "<div>\n",
       "<style scoped>\n",
       "    .dataframe tbody tr th:only-of-type {\n",
       "        vertical-align: middle;\n",
       "    }\n",
       "\n",
       "    .dataframe tbody tr th {\n",
       "        vertical-align: top;\n",
       "    }\n",
       "\n",
       "    .dataframe thead th {\n",
       "        text-align: right;\n",
       "    }\n",
       "</style>\n",
       "<table border=\"1\" class=\"dataframe\">\n",
       "  <thead>\n",
       "    <tr style=\"text-align: right;\">\n",
       "      <th></th>\n",
       "      <th>uranium_lead_ratio</th>\n",
       "      <th>carbon_14_ratio</th>\n",
       "      <th>radioactive_decay_series</th>\n",
       "      <th>stratigraphic_layer_depth</th>\n",
       "      <th>geological_period</th>\n",
       "      <th>paleomagnetic_data</th>\n",
       "      <th>inclusion_of_other_fossils</th>\n",
       "      <th>isotopic_composition</th>\n",
       "      <th>surrounding_rock_type</th>\n",
       "      <th>stratigraphic_position</th>\n",
       "      <th>fossil_size</th>\n",
       "      <th>fossil_weight</th>\n",
       "      <th>age</th>\n",
       "    </tr>\n",
       "  </thead>\n",
       "  <tbody>\n",
       "    <tr>\n",
       "      <th>0</th>\n",
       "      <td>0.738061</td>\n",
       "      <td>0.487707</td>\n",
       "      <td>0.907884</td>\n",
       "      <td>91.17</td>\n",
       "      <td>Cretaceous</td>\n",
       "      <td>Normal polarity</td>\n",
       "      <td>False</td>\n",
       "      <td>0.915951</td>\n",
       "      <td>Conglomerate</td>\n",
       "      <td>0</td>\n",
       "      <td>50.65</td>\n",
       "      <td>432.00</td>\n",
       "      <td>43523</td>\n",
       "    </tr>\n",
       "    <tr>\n",
       "      <th>1</th>\n",
       "      <td>0.560096</td>\n",
       "      <td>0.341738</td>\n",
       "      <td>1.121302</td>\n",
       "      <td>165.44</td>\n",
       "      <td>Cambrian</td>\n",
       "      <td>Normal polarity</td>\n",
       "      <td>False</td>\n",
       "      <td>0.803968</td>\n",
       "      <td>Limestone</td>\n",
       "      <td>1</td>\n",
       "      <td>48.85</td>\n",
       "      <td>353.29</td>\n",
       "      <td>44112</td>\n",
       "    </tr>\n",
       "    <tr>\n",
       "      <th>2</th>\n",
       "      <td>0.424773</td>\n",
       "      <td>0.218493</td>\n",
       "      <td>0.103855</td>\n",
       "      <td>218.98</td>\n",
       "      <td>Cambrian</td>\n",
       "      <td>Normal polarity</td>\n",
       "      <td>True</td>\n",
       "      <td>0.792441</td>\n",
       "      <td>Shale</td>\n",
       "      <td>2</td>\n",
       "      <td>37.66</td>\n",
       "      <td>371.33</td>\n",
       "      <td>43480</td>\n",
       "    </tr>\n",
       "    <tr>\n",
       "      <th>3</th>\n",
       "      <td>0.349958</td>\n",
       "      <td>0.704649</td>\n",
       "      <td>0.383617</td>\n",
       "      <td>51.09</td>\n",
       "      <td>Permian</td>\n",
       "      <td>Normal polarity</td>\n",
       "      <td>True</td>\n",
       "      <td>0.074636</td>\n",
       "      <td>Limestone</td>\n",
       "      <td>2</td>\n",
       "      <td>39.10</td>\n",
       "      <td>232.84</td>\n",
       "      <td>30228</td>\n",
       "    </tr>\n",
       "    <tr>\n",
       "      <th>4</th>\n",
       "      <td>0.886811</td>\n",
       "      <td>0.777494</td>\n",
       "      <td>0.593254</td>\n",
       "      <td>313.72</td>\n",
       "      <td>Devonian</td>\n",
       "      <td>Normal polarity</td>\n",
       "      <td>True</td>\n",
       "      <td>1.646640</td>\n",
       "      <td>Shale</td>\n",
       "      <td>1</td>\n",
       "      <td>90.84</td>\n",
       "      <td>277.67</td>\n",
       "      <td>67217</td>\n",
       "    </tr>\n",
       "    <tr>\n",
       "      <th>...</th>\n",
       "      <td>...</td>\n",
       "      <td>...</td>\n",
       "      <td>...</td>\n",
       "      <td>...</td>\n",
       "      <td>...</td>\n",
       "      <td>...</td>\n",
       "      <td>...</td>\n",
       "      <td>...</td>\n",
       "      <td>...</td>\n",
       "      <td>...</td>\n",
       "      <td>...</td>\n",
       "      <td>...</td>\n",
       "      <td>...</td>\n",
       "    </tr>\n",
       "    <tr>\n",
       "      <th>4392</th>\n",
       "      <td>0.563002</td>\n",
       "      <td>0.354462</td>\n",
       "      <td>0.194431</td>\n",
       "      <td>125.51</td>\n",
       "      <td>Jurassic</td>\n",
       "      <td>Reversed polarity</td>\n",
       "      <td>True</td>\n",
       "      <td>2.318179</td>\n",
       "      <td>Shale</td>\n",
       "      <td>2</td>\n",
       "      <td>142.02</td>\n",
       "      <td>350.98</td>\n",
       "      <td>44036</td>\n",
       "    </tr>\n",
       "    <tr>\n",
       "      <th>4393</th>\n",
       "      <td>0.049660</td>\n",
       "      <td>0.601750</td>\n",
       "      <td>0.762490</td>\n",
       "      <td>222.54</td>\n",
       "      <td>Jurassic</td>\n",
       "      <td>Reversed polarity</td>\n",
       "      <td>True</td>\n",
       "      <td>2.247495</td>\n",
       "      <td>Sandstone</td>\n",
       "      <td>2</td>\n",
       "      <td>91.69</td>\n",
       "      <td>415.13</td>\n",
       "      <td>26606</td>\n",
       "    </tr>\n",
       "    <tr>\n",
       "      <th>4394</th>\n",
       "      <td>0.360085</td>\n",
       "      <td>0.215033</td>\n",
       "      <td>1.002406</td>\n",
       "      <td>276.70</td>\n",
       "      <td>Cretaceous</td>\n",
       "      <td>Reversed polarity</td>\n",
       "      <td>True</td>\n",
       "      <td>1.004584</td>\n",
       "      <td>Conglomerate</td>\n",
       "      <td>2</td>\n",
       "      <td>68.97</td>\n",
       "      <td>121.10</td>\n",
       "      <td>44850</td>\n",
       "    </tr>\n",
       "    <tr>\n",
       "      <th>4395</th>\n",
       "      <td>0.464864</td>\n",
       "      <td>0.553313</td>\n",
       "      <td>0.659639</td>\n",
       "      <td>76.77</td>\n",
       "      <td>Devonian</td>\n",
       "      <td>Normal polarity</td>\n",
       "      <td>True</td>\n",
       "      <td>0.721947</td>\n",
       "      <td>Conglomerate</td>\n",
       "      <td>0</td>\n",
       "      <td>11.37</td>\n",
       "      <td>288.73</td>\n",
       "      <td>32186</td>\n",
       "    </tr>\n",
       "    <tr>\n",
       "      <th>4396</th>\n",
       "      <td>0.803338</td>\n",
       "      <td>0.272392</td>\n",
       "      <td>0.123562</td>\n",
       "      <td>204.82</td>\n",
       "      <td>Neogene</td>\n",
       "      <td>Reversed polarity</td>\n",
       "      <td>True</td>\n",
       "      <td>1.496427</td>\n",
       "      <td>Sandstone</td>\n",
       "      <td>2</td>\n",
       "      <td>132.34</td>\n",
       "      <td>518.31</td>\n",
       "      <td>59888</td>\n",
       "    </tr>\n",
       "  </tbody>\n",
       "</table>\n",
       "<p>4271 rows × 13 columns</p>\n",
       "</div>"
      ],
      "text/plain": [
       "      uranium_lead_ratio  carbon_14_ratio  radioactive_decay_series  \\\n",
       "0               0.738061         0.487707                  0.907884   \n",
       "1               0.560096         0.341738                  1.121302   \n",
       "2               0.424773         0.218493                  0.103855   \n",
       "3               0.349958         0.704649                  0.383617   \n",
       "4               0.886811         0.777494                  0.593254   \n",
       "...                  ...              ...                       ...   \n",
       "4392            0.563002         0.354462                  0.194431   \n",
       "4393            0.049660         0.601750                  0.762490   \n",
       "4394            0.360085         0.215033                  1.002406   \n",
       "4395            0.464864         0.553313                  0.659639   \n",
       "4396            0.803338         0.272392                  0.123562   \n",
       "\n",
       "      stratigraphic_layer_depth geological_period paleomagnetic_data  \\\n",
       "0                         91.17        Cretaceous    Normal polarity   \n",
       "1                        165.44          Cambrian    Normal polarity   \n",
       "2                        218.98          Cambrian    Normal polarity   \n",
       "3                         51.09           Permian    Normal polarity   \n",
       "4                        313.72          Devonian    Normal polarity   \n",
       "...                         ...               ...                ...   \n",
       "4392                     125.51          Jurassic  Reversed polarity   \n",
       "4393                     222.54          Jurassic  Reversed polarity   \n",
       "4394                     276.70        Cretaceous  Reversed polarity   \n",
       "4395                      76.77          Devonian    Normal polarity   \n",
       "4396                     204.82           Neogene  Reversed polarity   \n",
       "\n",
       "      inclusion_of_other_fossils  isotopic_composition surrounding_rock_type  \\\n",
       "0                          False              0.915951          Conglomerate   \n",
       "1                          False              0.803968             Limestone   \n",
       "2                           True              0.792441                 Shale   \n",
       "3                           True              0.074636             Limestone   \n",
       "4                           True              1.646640                 Shale   \n",
       "...                          ...                   ...                   ...   \n",
       "4392                        True              2.318179                 Shale   \n",
       "4393                        True              2.247495             Sandstone   \n",
       "4394                        True              1.004584          Conglomerate   \n",
       "4395                        True              0.721947          Conglomerate   \n",
       "4396                        True              1.496427             Sandstone   \n",
       "\n",
       "      stratigraphic_position  fossil_size  fossil_weight    age  \n",
       "0                          0        50.65         432.00  43523  \n",
       "1                          1        48.85         353.29  44112  \n",
       "2                          2        37.66         371.33  43480  \n",
       "3                          2        39.10         232.84  30228  \n",
       "4                          1        90.84         277.67  67217  \n",
       "...                      ...          ...            ...    ...  \n",
       "4392                       2       142.02         350.98  44036  \n",
       "4393                       2        91.69         415.13  26606  \n",
       "4394                       2        68.97         121.10  44850  \n",
       "4395                       0        11.37         288.73  32186  \n",
       "4396                       2       132.34         518.31  59888  \n",
       "\n",
       "[4271 rows x 13 columns]"
      ]
     },
     "execution_count": 32,
     "metadata": {},
     "output_type": "execute_result"
    }
   ],
   "source": [
    "train_data"
   ]
  },
  {
   "cell_type": "code",
   "execution_count": 33,
   "id": "3e288270-f3ff-43d0-867b-a23ec3eda035",
   "metadata": {},
   "outputs": [],
   "source": [
    "y_train = train_data[\"age\"]\n",
    "X_train = train_data[cols].drop([\"age\"], axis=1)\n",
    "\n",
    "y_test = test_data[\"age\"]\n",
    "X_test = test_data[cols].drop([\"age\"], axis=1)"
   ]
  },
  {
   "cell_type": "code",
   "execution_count": 34,
   "id": "3387cf64-1123-4ff1-8c5c-ee4eee71f8f6",
   "metadata": {},
   "outputs": [],
   "source": [
    "scaler = StandardScaler()\n",
    "X_train_scaled = scaler.fit_transform(X_train)\n",
    "X_test_scaled = scaler.fit_transform(X_test)"
   ]
  },
  {
   "cell_type": "code",
   "execution_count": null,
   "id": "bed5bd4e-4207-4c55-9c80-dec66cf78b0d",
   "metadata": {},
   "outputs": [],
   "source": []
  },
  {
   "cell_type": "code",
   "execution_count": 35,
   "id": "7201a662-d44a-44ef-91d8-430be5d292f4",
   "metadata": {},
   "outputs": [
    {
     "name": "stdout",
     "output_type": "stream",
     "text": [
      "Linear Regression RMSE : 3284.293739801799\n",
      "Linear Regression MAE  : 2451.157725523717 \n",
      "\n",
      "Real value is 41072 | The predicted value is 38709\n",
      "Real value is 42085 | The predicted value is 39815\n",
      "Real value is 50436 | The predicted value is 50742\n",
      "Real value is 25923 | The predicted value is 23063\n",
      "Real value is 30272 | The predicted value is 27288\n",
      "Real value is 41345 | The predicted value is 41180\n",
      "Real value is 48312 | The predicted value is 41712\n",
      "Real value is 35023 | The predicted value is 35329\n",
      "Real value is 92537 | The predicted value is 77996\n",
      "Real value is 65242 | The predicted value is 59988\n"
     ]
    }
   ],
   "source": [
    "from sklearn.linear_model import LinearRegression\n",
    "\n",
    "linearReg_model = LinearRegression()\n",
    "linearReg_model.fit(X_train_scaled, y_train)\n",
    "\n",
    "linearReg_y_pred = linearReg_model.predict(X_test_scaled)\n",
    "\n",
    "linearReg_RMSE = np.sqrt(mean_squared_error(y_test, linearReg_y_pred))\n",
    "linearReg_MAE = mean_absolute_error(y_test, linearReg_y_pred)\n",
    "\n",
    "print(\"Linear Regression RMSE :\", linearReg_RMSE)\n",
    "print(\"Linear Regression MAE  :\", linearReg_MAE, \"\\n\")\n",
    "\n",
    "for index, (real_value, predicted_value) in zip(range(10), zip(y_test, linearReg_y_pred)):\n",
    "    print(f\"Real value is {str(round(real_value)).rjust(5)} | The predicted value is {str(round(predicted_value)).rjust(5)}\")"
   ]
  },
  {
   "cell_type": "code",
   "execution_count": 36,
   "id": "bba6e676-744f-4f2d-979a-0e1f7ed777ac",
   "metadata": {},
   "outputs": [
    {
     "name": "stdout",
     "output_type": "stream",
     "text": [
      "Decision Tree RMSE : 4220.883029005359\n",
      "Decision Tree MAE  : 3178.7536363636364 \n",
      "\n",
      "Real value is 41072 | The predicted value is 40777\n",
      "Real value is 42085 | The predicted value is 36198\n",
      "Real value is 50436 | The predicted value is 46662\n",
      "Real value is 25923 | The predicted value is 18472\n",
      "Real value is 30272 | The predicted value is 30299\n",
      "Real value is 41345 | The predicted value is 42575\n",
      "Real value is 48312 | The predicted value is 47437\n",
      "Real value is 35023 | The predicted value is 36120\n",
      "Real value is 92537 | The predicted value is 78017\n",
      "Real value is 65242 | The predicted value is 62925\n"
     ]
    }
   ],
   "source": [
    "from sklearn.tree import DecisionTreeRegressor\n",
    "\n",
    "decisionTree_model = DecisionTreeRegressor()\n",
    "decisionTree_model.fit(X_train_scaled, y_train)\n",
    "\n",
    "decisionTree_y_pred = decisionTree_model.predict(X_test_scaled)\n",
    "\n",
    "decisionTree_RMSE = np.sqrt(mean_squared_error(y_test, decisionTree_y_pred))\n",
    "decisionTree_MAE = mean_absolute_error(y_test, decisionTree_y_pred)\n",
    "\n",
    "print(\"Decision Tree RMSE :\", decisionTree_RMSE)\n",
    "print(\"Decision Tree MAE  :\", decisionTree_MAE, \"\\n\")\n",
    "\n",
    "for index, (real_value, predicted_value) in zip(range(10), zip(y_test, decisionTree_y_pred)):    \n",
    "    print(f\"Real value is {str(round(real_value)).rjust(5)} | The predicted value is {str(round(predicted_value)).rjust(5)}\")"
   ]
  },
  {
   "cell_type": "code",
   "execution_count": 37,
   "id": "2ce94584-83de-4821-b6f1-c76a2786c5da",
   "metadata": {},
   "outputs": [
    {
     "name": "stdout",
     "output_type": "stream",
     "text": [
      "Random Forest RMSE : 3509.4129284398837\n",
      "Random Forest MAE  : 2516.5699181818177\n",
      "Real value is 41072 | The predicted value is 37599\n",
      "Real value is 42085 | The predicted value is 38255\n",
      "Real value is 50436 | The predicted value is 51780\n",
      "Real value is 25923 | The predicted value is 24339\n",
      "Real value is 30272 | The predicted value is 30100\n",
      "Real value is 41345 | The predicted value is 41459\n",
      "Real value is 48312 | The predicted value is 44438\n",
      "Real value is 35023 | The predicted value is 35943\n",
      "Real value is 92537 | The predicted value is 76688\n",
      "Real value is 65242 | The predicted value is 62093\n",
      "Real value is 43958 | The predicted value is 40037\n",
      "Real value is 47803 | The predicted value is 47760\n",
      "Real value is 19698 | The predicted value is 21051\n",
      "Real value is 18436 | The predicted value is 19202\n",
      "Real value is 35529 | The predicted value is 37248\n",
      "Real value is 22907 | The predicted value is 18563\n",
      "Real value is 25465 | The predicted value is 24422\n",
      "Real value is 46187 | The predicted value is 43136\n",
      "Real value is 46061 | The predicted value is 46430\n"
     ]
    }
   ],
   "source": [
    "from sklearn.ensemble import RandomForestRegressor\n",
    "\n",
    "randomForest_model = RandomForestRegressor(n_estimators=100, random_state=42)\n",
    "randomForest_model.fit(X_train_scaled, y_train)\n",
    "\n",
    "randomForest_y_pred = randomForest_model.predict(X_test_scaled)\n",
    "\n",
    "randomForest_RMSE = np.sqrt(mean_squared_error(y_test, randomForest_y_pred))\n",
    "randomForest_MAE  = mean_absolute_error(y_test, randomForest_y_pred)\n",
    "\n",
    "print(\"Random Forest RMSE :\", randomForest_RMSE)\n",
    "print(\"Random Forest MAE  :\", randomForest_MAE)\n",
    "\n",
    "for index, (real_value, predicted_value) in zip(range(1, 20), zip(y_test, randomForest_y_pred)):        \n",
    "    print(f\"Real value is {str(round(real_value)).rjust(5)} | The predicted value is {str(round(predicted_value)).rjust(5)}\")"
   ]
  },
  {
   "cell_type": "code",
   "execution_count": null,
   "id": "61c6a89c-030e-4b5f-b91e-900775556b2d",
   "metadata": {},
   "outputs": [],
   "source": []
  }
 ],
 "metadata": {
  "kernelspec": {
   "display_name": "Python 3 (ipykernel)",
   "language": "python",
   "name": "python3"
  },
  "language_info": {
   "codemirror_mode": {
    "name": "ipython",
    "version": 3
   },
   "file_extension": ".py",
   "mimetype": "text/x-python",
   "name": "python",
   "nbconvert_exporter": "python",
   "pygments_lexer": "ipython3",
   "version": "3.12.4"
  }
 },
 "nbformat": 4,
 "nbformat_minor": 5
}
