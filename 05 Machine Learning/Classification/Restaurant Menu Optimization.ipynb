{
 "cells": [
  {
   "cell_type": "code",
   "execution_count": null,
   "id": "c756e26a-9f35-4268-8b22-3318ef17bd16",
   "metadata": {},
   "outputs": [],
   "source": []
  },
  {
   "cell_type": "markdown",
   "id": "46893cc5-9040-4a46-b2b5-520111dfc9f4",
   "metadata": {},
   "source": [
    "## Import Libraries"
   ]
  },
  {
   "cell_type": "code",
   "execution_count": 1,
   "id": "bcee2abf-f8ec-4a6f-a117-4062eb9d9790",
   "metadata": {},
   "outputs": [],
   "source": [
    "import warnings\n",
    "warnings.filterwarnings(\"ignore\")\n",
    "\n",
    "import numpy as np\n",
    "import pandas as pd\n",
    "import matplotlib.pyplot as plt\n",
    "import seaborn as sns\n",
    "\n",
    "from sklearn.model_selection import train_test_split\n",
    "\n",
    "from sklearn.preprocessing import StandardScaler\n",
    "from sklearn.metrics import accuracy_score, confusion_matrix\n",
    "\n",
    "from sklearn.ensemble import RandomForestClassifier\n",
    "from sklearn.neighbors import KNeighborsClassifier\n",
    "from sklearn.tree import DecisionTreeClassifier"
   ]
  },
  {
   "cell_type": "markdown",
   "id": "22381e76-4824-47cf-a5b3-f3ed21fa06ae",
   "metadata": {},
   "source": [
    "## Read Data"
   ]
  },
  {
   "cell_type": "code",
   "execution_count": 2,
   "id": "50de9509-fd60-40c4-a708-0853b45c743d",
   "metadata": {},
   "outputs": [
    {
     "data": {
      "text/html": [
       "<div>\n",
       "<style scoped>\n",
       "    .dataframe tbody tr th:only-of-type {\n",
       "        vertical-align: middle;\n",
       "    }\n",
       "\n",
       "    .dataframe tbody tr th {\n",
       "        vertical-align: top;\n",
       "    }\n",
       "\n",
       "    .dataframe thead th {\n",
       "        text-align: right;\n",
       "    }\n",
       "</style>\n",
       "<table border=\"1\" class=\"dataframe\">\n",
       "  <thead>\n",
       "    <tr style=\"text-align: right;\">\n",
       "      <th></th>\n",
       "      <th>RestaurantID</th>\n",
       "      <th>MenuCategory</th>\n",
       "      <th>MenuItem</th>\n",
       "      <th>Ingredients</th>\n",
       "      <th>Price</th>\n",
       "      <th>Profitability</th>\n",
       "    </tr>\n",
       "  </thead>\n",
       "  <tbody>\n",
       "    <tr>\n",
       "      <th>0</th>\n",
       "      <td>R003</td>\n",
       "      <td>Beverages</td>\n",
       "      <td>Soda</td>\n",
       "      <td>['confidential']</td>\n",
       "      <td>2.55</td>\n",
       "      <td>Low</td>\n",
       "    </tr>\n",
       "    <tr>\n",
       "      <th>1</th>\n",
       "      <td>R001</td>\n",
       "      <td>Appetizers</td>\n",
       "      <td>Spinach Artichoke Dip</td>\n",
       "      <td>['Tomatoes', 'Basil', 'Garlic', 'Olive Oil']</td>\n",
       "      <td>11.12</td>\n",
       "      <td>Medium</td>\n",
       "    </tr>\n",
       "    <tr>\n",
       "      <th>2</th>\n",
       "      <td>R003</td>\n",
       "      <td>Desserts</td>\n",
       "      <td>New York Cheesecake</td>\n",
       "      <td>['Chocolate', 'Butter', 'Sugar', 'Eggs']</td>\n",
       "      <td>18.66</td>\n",
       "      <td>High</td>\n",
       "    </tr>\n",
       "    <tr>\n",
       "      <th>3</th>\n",
       "      <td>R003</td>\n",
       "      <td>Main Course</td>\n",
       "      <td>Chicken Alfredo</td>\n",
       "      <td>['Chicken', 'Fettuccine', 'Alfredo Sauce', 'Pa...</td>\n",
       "      <td>29.55</td>\n",
       "      <td>High</td>\n",
       "    </tr>\n",
       "    <tr>\n",
       "      <th>4</th>\n",
       "      <td>R002</td>\n",
       "      <td>Main Course</td>\n",
       "      <td>Grilled Steak</td>\n",
       "      <td>['Chicken', 'Fettuccine', 'Alfredo Sauce', 'Pa...</td>\n",
       "      <td>17.73</td>\n",
       "      <td>Medium</td>\n",
       "    </tr>\n",
       "    <tr>\n",
       "      <th>...</th>\n",
       "      <td>...</td>\n",
       "      <td>...</td>\n",
       "      <td>...</td>\n",
       "      <td>...</td>\n",
       "      <td>...</td>\n",
       "      <td>...</td>\n",
       "    </tr>\n",
       "    <tr>\n",
       "      <th>995</th>\n",
       "      <td>R003</td>\n",
       "      <td>Beverages</td>\n",
       "      <td>Soda</td>\n",
       "      <td>['confidential']</td>\n",
       "      <td>2.16</td>\n",
       "      <td>Low</td>\n",
       "    </tr>\n",
       "    <tr>\n",
       "      <th>996</th>\n",
       "      <td>R001</td>\n",
       "      <td>Appetizers</td>\n",
       "      <td>Caprese Salad</td>\n",
       "      <td>['Tomatoes', 'Basil', 'Garlic', 'Olive Oil']</td>\n",
       "      <td>11.86</td>\n",
       "      <td>Medium</td>\n",
       "    </tr>\n",
       "    <tr>\n",
       "      <th>997</th>\n",
       "      <td>R003</td>\n",
       "      <td>Main Course</td>\n",
       "      <td>Vegetable Stir-Fry</td>\n",
       "      <td>['Chicken', 'Fettuccine', 'Alfredo Sauce', 'Pa...</td>\n",
       "      <td>20.57</td>\n",
       "      <td>High</td>\n",
       "    </tr>\n",
       "    <tr>\n",
       "      <th>998</th>\n",
       "      <td>R002</td>\n",
       "      <td>Desserts</td>\n",
       "      <td>Tiramisu</td>\n",
       "      <td>['Chocolate', 'Butter', 'Sugar', 'Eggs']</td>\n",
       "      <td>18.80</td>\n",
       "      <td>High</td>\n",
       "    </tr>\n",
       "    <tr>\n",
       "      <th>999</th>\n",
       "      <td>R001</td>\n",
       "      <td>Beverages</td>\n",
       "      <td>Soda</td>\n",
       "      <td>['confidential']</td>\n",
       "      <td>4.26</td>\n",
       "      <td>Medium</td>\n",
       "    </tr>\n",
       "  </tbody>\n",
       "</table>\n",
       "<p>1000 rows × 6 columns</p>\n",
       "</div>"
      ],
      "text/plain": [
       "    RestaurantID MenuCategory               MenuItem  \\\n",
       "0           R003    Beverages                   Soda   \n",
       "1           R001   Appetizers  Spinach Artichoke Dip   \n",
       "2           R003     Desserts    New York Cheesecake   \n",
       "3           R003  Main Course        Chicken Alfredo   \n",
       "4           R002  Main Course          Grilled Steak   \n",
       "..           ...          ...                    ...   \n",
       "995         R003    Beverages                   Soda   \n",
       "996         R001   Appetizers          Caprese Salad   \n",
       "997         R003  Main Course     Vegetable Stir-Fry   \n",
       "998         R002     Desserts               Tiramisu   \n",
       "999         R001    Beverages                   Soda   \n",
       "\n",
       "                                           Ingredients  Price Profitability  \n",
       "0                                     ['confidential']   2.55           Low  \n",
       "1         ['Tomatoes', 'Basil', 'Garlic', 'Olive Oil']  11.12        Medium  \n",
       "2             ['Chocolate', 'Butter', 'Sugar', 'Eggs']  18.66          High  \n",
       "3    ['Chicken', 'Fettuccine', 'Alfredo Sauce', 'Pa...  29.55          High  \n",
       "4    ['Chicken', 'Fettuccine', 'Alfredo Sauce', 'Pa...  17.73        Medium  \n",
       "..                                                 ...    ...           ...  \n",
       "995                                   ['confidential']   2.16           Low  \n",
       "996       ['Tomatoes', 'Basil', 'Garlic', 'Olive Oil']  11.86        Medium  \n",
       "997  ['Chicken', 'Fettuccine', 'Alfredo Sauce', 'Pa...  20.57          High  \n",
       "998           ['Chocolate', 'Butter', 'Sugar', 'Eggs']  18.80          High  \n",
       "999                                   ['confidential']   4.26        Medium  \n",
       "\n",
       "[1000 rows x 6 columns]"
      ]
     },
     "execution_count": 2,
     "metadata": {},
     "output_type": "execute_result"
    }
   ],
   "source": [
    "data = pd.read_csv(r\"restaurant_menu_optimization_data.csv\")\n",
    "data"
   ]
  },
  {
   "cell_type": "markdown",
   "id": "043050e1-40c0-4c5c-b250-cfc0f0a6ba6d",
   "metadata": {},
   "source": [
    "## Analysis & Visualization"
   ]
  },
  {
   "cell_type": "code",
   "execution_count": 3,
   "id": "7d8700fc-fe4a-4abf-9ad4-834c6ddf60ae",
   "metadata": {},
   "outputs": [
    {
     "name": "stdout",
     "output_type": "stream",
     "text": [
      "<class 'pandas.core.frame.DataFrame'>\n",
      "RangeIndex: 1000 entries, 0 to 999\n",
      "Data columns (total 6 columns):\n",
      " #   Column         Non-Null Count  Dtype  \n",
      "---  ------         --------------  -----  \n",
      " 0   RestaurantID   1000 non-null   object \n",
      " 1   MenuCategory   1000 non-null   object \n",
      " 2   MenuItem       1000 non-null   object \n",
      " 3   Ingredients    1000 non-null   object \n",
      " 4   Price          1000 non-null   float64\n",
      " 5   Profitability  1000 non-null   object \n",
      "dtypes: float64(1), object(5)\n",
      "memory usage: 47.0+ KB\n"
     ]
    }
   ],
   "source": [
    "data.info()"
   ]
  },
  {
   "cell_type": "code",
   "execution_count": 4,
   "id": "08cbde02-b7c5-400d-9748-46bc5254fbd1",
   "metadata": {},
   "outputs": [
    {
     "data": {
      "text/html": [
       "<div>\n",
       "<style scoped>\n",
       "    .dataframe tbody tr th:only-of-type {\n",
       "        vertical-align: middle;\n",
       "    }\n",
       "\n",
       "    .dataframe tbody tr th {\n",
       "        vertical-align: top;\n",
       "    }\n",
       "\n",
       "    .dataframe thead th {\n",
       "        text-align: right;\n",
       "    }\n",
       "</style>\n",
       "<table border=\"1\" class=\"dataframe\">\n",
       "  <thead>\n",
       "    <tr style=\"text-align: right;\">\n",
       "      <th></th>\n",
       "      <th>RestaurantID</th>\n",
       "      <th>MenuCategory</th>\n",
       "      <th>MenuItem</th>\n",
       "      <th>Ingredients</th>\n",
       "      <th>Profitability</th>\n",
       "    </tr>\n",
       "  </thead>\n",
       "  <tbody>\n",
       "    <tr>\n",
       "      <th>count</th>\n",
       "      <td>1000</td>\n",
       "      <td>1000</td>\n",
       "      <td>1000</td>\n",
       "      <td>1000</td>\n",
       "      <td>1000</td>\n",
       "    </tr>\n",
       "    <tr>\n",
       "      <th>unique</th>\n",
       "      <td>3</td>\n",
       "      <td>4</td>\n",
       "      <td>16</td>\n",
       "      <td>4</td>\n",
       "      <td>3</td>\n",
       "    </tr>\n",
       "    <tr>\n",
       "      <th>top</th>\n",
       "      <td>R001</td>\n",
       "      <td>Beverages</td>\n",
       "      <td>Iced Tea</td>\n",
       "      <td>['confidential']</td>\n",
       "      <td>Medium</td>\n",
       "    </tr>\n",
       "    <tr>\n",
       "      <th>freq</th>\n",
       "      <td>354</td>\n",
       "      <td>264</td>\n",
       "      <td>72</td>\n",
       "      <td>264</td>\n",
       "      <td>495</td>\n",
       "    </tr>\n",
       "  </tbody>\n",
       "</table>\n",
       "</div>"
      ],
      "text/plain": [
       "       RestaurantID MenuCategory  MenuItem       Ingredients Profitability\n",
       "count          1000         1000      1000              1000          1000\n",
       "unique            3            4        16                 4             3\n",
       "top            R001    Beverages  Iced Tea  ['confidential']        Medium\n",
       "freq            354          264        72               264           495"
      ]
     },
     "execution_count": 4,
     "metadata": {},
     "output_type": "execute_result"
    }
   ],
   "source": [
    "data.describe(include=\"O\")"
   ]
  },
  {
   "cell_type": "code",
   "execution_count": 5,
   "id": "f67901af-5436-4352-b710-e3086c6e5175",
   "metadata": {},
   "outputs": [
    {
     "name": "stdout",
     "output_type": "stream",
     "text": [
      "Column Name   : RestaurantID\n",
      "Unique Values : 3\n",
      "Categories    : \n",
      "\t\tR003\n",
      "\t\tR001\n",
      "\t\tR002\n",
      "----------------------------------------------------------------------\n",
      "Column Name   : MenuCategory\n",
      "Unique Values : 4\n",
      "Categories    : \n",
      "\t\tBeverages\n",
      "\t\tAppetizers\n",
      "\t\tDesserts\n",
      "\t\tMain Course\n",
      "----------------------------------------------------------------------\n",
      "Column Name   : MenuItem\n",
      "Unique Values : 16\n",
      "Categories    : \n",
      "\t\tSoda\n",
      "\t\tSpinach Artichoke Dip\n",
      "\t\tNew York Cheesecake\n",
      "\t\tChicken Alfredo\n",
      "\t\tGrilled Steak\n",
      "\t\tStuffed Mushrooms\n",
      "\t\tTiramisu\n",
      "\t\tLemonade\n",
      "\t\tChocolate Lava Cake\n",
      "\t\tIced Tea\n",
      "\t\tCoffee\n",
      "\t\tBruschetta\n",
      "\t\tVegetable Stir-Fry\n",
      "\t\tShrimp Scampi\n",
      "\t\tFruit Tart\n",
      "\t\tCaprese Salad\n",
      "----------------------------------------------------------------------\n",
      "Column Name   : Ingredients\n",
      "Unique Values : 4\n",
      "Categories    : \n",
      "\t\t['confidential']\n",
      "\t\t['Tomatoes', 'Basil', 'Garlic', 'Olive Oil']\n",
      "\t\t['Chocolate', 'Butter', 'Sugar', 'Eggs']\n",
      "\t\t['Chicken', 'Fettuccine', 'Alfredo Sauce', 'Parmesan']\n",
      "----------------------------------------------------------------------\n",
      "Column Name   : Profitability\n",
      "Unique Values : 3\n",
      "Categories    : \n",
      "\t\tLow\n",
      "\t\tMedium\n",
      "\t\tHigh\n",
      "----------------------------------------------------------------------\n"
     ]
    }
   ],
   "source": [
    "for col in data.columns:\n",
    "    if data[col].dtype == object:\n",
    "        print(f\"Column Name   : {col}\")\n",
    "        temp = data[col].unique()\n",
    "        print(f\"Unique Values : {len(temp)}\")\n",
    "        print(f\"Categories    : \")\n",
    "        for category in temp:\n",
    "            print(f\"\\t\\t{category}\")\n",
    "        print(70 * '-')\n",
    "            "
   ]
  },
  {
   "cell_type": "code",
   "execution_count": 6,
   "id": "599e0c6d-4228-48e4-868c-74fb7aa64c03",
   "metadata": {},
   "outputs": [
    {
     "data": {
      "text/plain": [
       "Profitability\n",
       "High      18.660855\n",
       "Low        6.321092\n",
       "Medium     9.823657\n",
       "Name: Price, dtype: float64"
      ]
     },
     "execution_count": 6,
     "metadata": {},
     "output_type": "execute_result"
    }
   ],
   "source": [
    "data.groupby([\"Profitability\"])[\"Price\"].mean()"
   ]
  },
  {
   "cell_type": "code",
   "execution_count": 7,
   "id": "206048f5-d052-4241-9060-f8b01ea8f7d1",
   "metadata": {},
   "outputs": [
    {
     "data": {
      "text/plain": [
       "MenuCategory\n",
       "Appetizers     11.420866\n",
       "Beverages       3.505530\n",
       "Desserts       14.972148\n",
       "Main Course    22.826460\n",
       "Name: Price, dtype: float64"
      ]
     },
     "execution_count": 7,
     "metadata": {},
     "output_type": "execute_result"
    }
   ],
   "source": [
    "# I want to check the MenuCategory mean price\n",
    "data.groupby([\"MenuCategory\"])[\"Price\"].mean()"
   ]
  },
  {
   "cell_type": "code",
   "execution_count": 8,
   "id": "ac753afe-977c-489c-bdee-c827a96c8b60",
   "metadata": {},
   "outputs": [
    {
     "data": {
      "text/plain": [
       "Profitability  MenuCategory  MenuItem             \n",
       "High           Appetizers    Bruschetta               13.010000\n",
       "                             Caprese Salad            13.739677\n",
       "                             Spinach Artichoke Dip    13.084783\n",
       "                             Stuffed Mushrooms        13.444400\n",
       "               Beverages     Coffee                    3.784000\n",
       "                             Iced Tea                  2.040000\n",
       "                             Lemonade                  2.927500\n",
       "                             Soda                      2.810000\n",
       "               Desserts      Chocolate Lava Cake      17.335000\n",
       "                             Fruit Tart               17.680000\n",
       "                             New York Cheesecake      17.052258\n",
       "                             Tiramisu                 17.188065\n",
       "               Main Course   Chicken Alfredo          25.216667\n",
       "                             Grilled Steak            25.462286\n",
       "                             Shrimp Scampi            24.932500\n",
       "                             Vegetable Stir-Fry       24.754186\n",
       "Low            Appetizers    Bruschetta               14.130000\n",
       "                             Caprese Salad            13.056667\n",
       "                             Spinach Artichoke Dip    11.277500\n",
       "               Beverages     Coffee                    2.502000\n",
       "                             Iced Tea                  2.846774\n",
       "                             Lemonade                  2.735714\n",
       "                             Soda                      2.772800\n",
       "               Desserts      Chocolate Lava Cake      16.280000\n",
       "                             Fruit Tart               17.360000\n",
       "                             New York Cheesecake      15.733333\n",
       "                             Tiramisu                 12.772500\n",
       "               Main Course   Chicken Alfredo          18.395000\n",
       "                             Grilled Steak            25.283333\n",
       "                             Shrimp Scampi            25.700000\n",
       "                             Vegetable Stir-Fry       24.715000\n",
       "Medium         Appetizers    Bruschetta                9.786389\n",
       "                             Caprese Salad             9.855152\n",
       "                             Spinach Artichoke Dip     9.858919\n",
       "                             Stuffed Mushrooms        10.174118\n",
       "               Beverages     Coffee                    3.857073\n",
       "                             Iced Tea                  4.110000\n",
       "                             Lemonade                  4.000000\n",
       "                             Soda                      3.874286\n",
       "               Desserts      Chocolate Lava Cake      12.145833\n",
       "                             Fruit Tart               13.026923\n",
       "                             New York Cheesecake      12.472162\n",
       "                             Tiramisu                 12.695143\n",
       "               Main Course   Chicken Alfredo          19.120000\n",
       "                             Grilled Steak            18.153529\n",
       "                             Shrimp Scampi            17.407000\n",
       "                             Vegetable Stir-Fry       18.662381\n",
       "Name: Price, dtype: float64"
      ]
     },
     "execution_count": 8,
     "metadata": {},
     "output_type": "execute_result"
    }
   ],
   "source": [
    "# I want to check the MenuItem mean price depending on MenuCategory\n",
    "data.groupby([\"Profitability\", \"MenuCategory\", \"MenuItem\"])[\"Price\"].mean()"
   ]
  },
  {
   "cell_type": "code",
   "execution_count": 9,
   "id": "7f518876-00d2-409a-b6ab-8cbcd34b169f",
   "metadata": {},
   "outputs": [
    {
     "data": {
      "text/plain": [
       "<Axes: ylabel='Price'>"
      ]
     },
     "execution_count": 9,
     "metadata": {},
     "output_type": "execute_result"
    },
    {
     "data": {
      "image/png": "[encoded data removed]",
      "text/plain": [
       "<Figure size 640x480 with 1 Axes>"
      ]
     },
     "metadata": {},
     "output_type": "display_data"
    }
   ],
   "source": [
    "sns.boxplot(data[\"Price\"])"
   ]
  },
  {
   "cell_type": "code",
   "execution_count": 10,
   "id": "98cfd7ce-cf45-43f9-92a4-e7e692c2f978",
   "metadata": {},
   "outputs": [
    {
     "data": {
      "text/plain": [
       "<matplotlib.collections.PathCollection at 0x183258c98b0>"
      ]
     },
     "execution_count": 10,
     "metadata": {},
     "output_type": "execute_result"
    },
    {
     "data": {
      "image/png": "[encoded data removed]",
      "text/plain": [
       "<Figure size 640x480 with 1 Axes>"
      ]
     },
     "metadata": {},
     "output_type": "display_data"
    }
   ],
   "source": [
    "# These two columns are very correclated, We will drop one of them\n",
    "plt.scatter(x=data[\"MenuCategory\"], y=data[\"Ingredients\"])"
   ]
  },
  {
   "cell_type": "code",
   "execution_count": 11,
   "id": "c061cc18-4740-4b14-aeb9-126632c8db49",
   "metadata": {},
   "outputs": [],
   "source": [
    "data.drop([\"Ingredients\", \"MenuItem\", \"RestaurantID\"], axis=1, inplace=True) # \"RestaurantID\", \"MenuCategory\", \"MenuItem\""
   ]
  },
  {
   "cell_type": "code",
   "execution_count": 12,
   "id": "0e74a4d4-2076-4cd3-a4e9-5bafaaa0cc08",
   "metadata": {},
   "outputs": [
    {
     "data": {
      "text/html": [
       "<div>\n",
       "<style scoped>\n",
       "    .dataframe tbody tr th:only-of-type {\n",
       "        vertical-align: middle;\n",
       "    }\n",
       "\n",
       "    .dataframe tbody tr th {\n",
       "        vertical-align: top;\n",
       "    }\n",
       "\n",
       "    .dataframe thead th {\n",
       "        text-align: right;\n",
       "    }\n",
       "</style>\n",
       "<table border=\"1\" class=\"dataframe\">\n",
       "  <thead>\n",
       "    <tr style=\"text-align: right;\">\n",
       "      <th></th>\n",
       "      <th>MenuCategory</th>\n",
       "      <th>Price</th>\n",
       "      <th>Profitability</th>\n",
       "    </tr>\n",
       "  </thead>\n",
       "  <tbody>\n",
       "    <tr>\n",
       "      <th>0</th>\n",
       "      <td>Beverages</td>\n",
       "      <td>2.55</td>\n",
       "      <td>Low</td>\n",
       "    </tr>\n",
       "    <tr>\n",
       "      <th>1</th>\n",
       "      <td>Appetizers</td>\n",
       "      <td>11.12</td>\n",
       "      <td>Medium</td>\n",
       "    </tr>\n",
       "    <tr>\n",
       "      <th>2</th>\n",
       "      <td>Desserts</td>\n",
       "      <td>18.66</td>\n",
       "      <td>High</td>\n",
       "    </tr>\n",
       "    <tr>\n",
       "      <th>3</th>\n",
       "      <td>Main Course</td>\n",
       "      <td>29.55</td>\n",
       "      <td>High</td>\n",
       "    </tr>\n",
       "    <tr>\n",
       "      <th>4</th>\n",
       "      <td>Main Course</td>\n",
       "      <td>17.73</td>\n",
       "      <td>Medium</td>\n",
       "    </tr>\n",
       "    <tr>\n",
       "      <th>...</th>\n",
       "      <td>...</td>\n",
       "      <td>...</td>\n",
       "      <td>...</td>\n",
       "    </tr>\n",
       "    <tr>\n",
       "      <th>995</th>\n",
       "      <td>Beverages</td>\n",
       "      <td>2.16</td>\n",
       "      <td>Low</td>\n",
       "    </tr>\n",
       "    <tr>\n",
       "      <th>996</th>\n",
       "      <td>Appetizers</td>\n",
       "      <td>11.86</td>\n",
       "      <td>Medium</td>\n",
       "    </tr>\n",
       "    <tr>\n",
       "      <th>997</th>\n",
       "      <td>Main Course</td>\n",
       "      <td>20.57</td>\n",
       "      <td>High</td>\n",
       "    </tr>\n",
       "    <tr>\n",
       "      <th>998</th>\n",
       "      <td>Desserts</td>\n",
       "      <td>18.80</td>\n",
       "      <td>High</td>\n",
       "    </tr>\n",
       "    <tr>\n",
       "      <th>999</th>\n",
       "      <td>Beverages</td>\n",
       "      <td>4.26</td>\n",
       "      <td>Medium</td>\n",
       "    </tr>\n",
       "  </tbody>\n",
       "</table>\n",
       "<p>1000 rows × 3 columns</p>\n",
       "</div>"
      ],
      "text/plain": [
       "    MenuCategory  Price Profitability\n",
       "0      Beverages   2.55           Low\n",
       "1     Appetizers  11.12        Medium\n",
       "2       Desserts  18.66          High\n",
       "3    Main Course  29.55          High\n",
       "4    Main Course  17.73        Medium\n",
       "..           ...    ...           ...\n",
       "995    Beverages   2.16           Low\n",
       "996   Appetizers  11.86        Medium\n",
       "997  Main Course  20.57          High\n",
       "998     Desserts  18.80          High\n",
       "999    Beverages   4.26        Medium\n",
       "\n",
       "[1000 rows x 3 columns]"
      ]
     },
     "execution_count": 12,
     "metadata": {},
     "output_type": "execute_result"
    }
   ],
   "source": [
    "data"
   ]
  },
  {
   "cell_type": "code",
   "execution_count": 13,
   "id": "0b7fafb6-17be-4253-a17c-60dc34d69d0d",
   "metadata": {},
   "outputs": [],
   "source": [
    "# count_df = data.groupby(['RestaurantID', 'Profitability']).size().unstack(fill_value=0)\n",
    "\n",
    "# ordered_columns = ['Low', 'Medium', 'High']\n",
    "# count_df = count_df[ordered_columns]\n",
    "\n",
    "# count_df.plot(kind='bar') # , stacked=True\n",
    "\n",
    "# plt.title('Profitability Counts by RestaurantID')\n",
    "# plt.xlabel('RestaurantID')\n",
    "# plt.ylabel('Count')\n",
    "# plt.legend(title='Profitability')\n",
    "# plt.show()"
   ]
  },
  {
   "cell_type": "code",
   "execution_count": 14,
   "id": "3ddc1b97-cc02-44e8-94fb-2bfe9de94132",
   "metadata": {},
   "outputs": [],
   "source": [
    "data[\"Profitability\"].replace({\"Low\": 0, \"Medium\": 1, \"High\": 2}, inplace=True)"
   ]
  },
  {
   "cell_type": "code",
   "execution_count": 15,
   "id": "cd81e48a-6790-44c0-9ca1-b02def6ab603",
   "metadata": {},
   "outputs": [
    {
     "data": {
      "text/plain": [
       "<matplotlib.collections.PathCollection at 0x18321179fa0>"
      ]
     },
     "execution_count": 15,
     "metadata": {},
     "output_type": "execute_result"
    },
    {
     "data": {
      "image/png": "[encoded data removed]",
      "text/plain": [
       "<Figure size 640x480 with 1 Axes>"
      ]
     },
     "metadata": {},
     "output_type": "display_data"
    }
   ],
   "source": [
    "plt.scatter(data[\"Price\"], data[\"Profitability\"])"
   ]
  },
  {
   "cell_type": "code",
   "execution_count": null,
   "id": "71e44c93-5473-45c8-9b61-757a8af655dc",
   "metadata": {},
   "outputs": [],
   "source": []
  },
  {
   "cell_type": "code",
   "execution_count": 16,
   "id": "218c4fe9-a3fb-4613-af33-1dd0e70f2feb",
   "metadata": {},
   "outputs": [
    {
     "data": {
      "text/html": [
       "<div>\n",
       "<style scoped>\n",
       "    .dataframe tbody tr th:only-of-type {\n",
       "        vertical-align: middle;\n",
       "    }\n",
       "\n",
       "    .dataframe tbody tr th {\n",
       "        vertical-align: top;\n",
       "    }\n",
       "\n",
       "    .dataframe thead th {\n",
       "        text-align: right;\n",
       "    }\n",
       "</style>\n",
       "<table border=\"1\" class=\"dataframe\">\n",
       "  <thead>\n",
       "    <tr style=\"text-align: right;\">\n",
       "      <th></th>\n",
       "      <th>Price</th>\n",
       "      <th>Profitability</th>\n",
       "      <th>MenuCategory_Appetizers</th>\n",
       "      <th>MenuCategory_Beverages</th>\n",
       "      <th>MenuCategory_Desserts</th>\n",
       "      <th>MenuCategory_Main Course</th>\n",
       "    </tr>\n",
       "  </thead>\n",
       "  <tbody>\n",
       "    <tr>\n",
       "      <th>0</th>\n",
       "      <td>2.55</td>\n",
       "      <td>0</td>\n",
       "      <td>False</td>\n",
       "      <td>True</td>\n",
       "      <td>False</td>\n",
       "      <td>False</td>\n",
       "    </tr>\n",
       "    <tr>\n",
       "      <th>1</th>\n",
       "      <td>11.12</td>\n",
       "      <td>1</td>\n",
       "      <td>True</td>\n",
       "      <td>False</td>\n",
       "      <td>False</td>\n",
       "      <td>False</td>\n",
       "    </tr>\n",
       "    <tr>\n",
       "      <th>2</th>\n",
       "      <td>18.66</td>\n",
       "      <td>2</td>\n",
       "      <td>False</td>\n",
       "      <td>False</td>\n",
       "      <td>True</td>\n",
       "      <td>False</td>\n",
       "    </tr>\n",
       "    <tr>\n",
       "      <th>3</th>\n",
       "      <td>29.55</td>\n",
       "      <td>2</td>\n",
       "      <td>False</td>\n",
       "      <td>False</td>\n",
       "      <td>False</td>\n",
       "      <td>True</td>\n",
       "    </tr>\n",
       "    <tr>\n",
       "      <th>4</th>\n",
       "      <td>17.73</td>\n",
       "      <td>1</td>\n",
       "      <td>False</td>\n",
       "      <td>False</td>\n",
       "      <td>False</td>\n",
       "      <td>True</td>\n",
       "    </tr>\n",
       "    <tr>\n",
       "      <th>...</th>\n",
       "      <td>...</td>\n",
       "      <td>...</td>\n",
       "      <td>...</td>\n",
       "      <td>...</td>\n",
       "      <td>...</td>\n",
       "      <td>...</td>\n",
       "    </tr>\n",
       "    <tr>\n",
       "      <th>995</th>\n",
       "      <td>2.16</td>\n",
       "      <td>0</td>\n",
       "      <td>False</td>\n",
       "      <td>True</td>\n",
       "      <td>False</td>\n",
       "      <td>False</td>\n",
       "    </tr>\n",
       "    <tr>\n",
       "      <th>996</th>\n",
       "      <td>11.86</td>\n",
       "      <td>1</td>\n",
       "      <td>True</td>\n",
       "      <td>False</td>\n",
       "      <td>False</td>\n",
       "      <td>False</td>\n",
       "    </tr>\n",
       "    <tr>\n",
       "      <th>997</th>\n",
       "      <td>20.57</td>\n",
       "      <td>2</td>\n",
       "      <td>False</td>\n",
       "      <td>False</td>\n",
       "      <td>False</td>\n",
       "      <td>True</td>\n",
       "    </tr>\n",
       "    <tr>\n",
       "      <th>998</th>\n",
       "      <td>18.80</td>\n",
       "      <td>2</td>\n",
       "      <td>False</td>\n",
       "      <td>False</td>\n",
       "      <td>True</td>\n",
       "      <td>False</td>\n",
       "    </tr>\n",
       "    <tr>\n",
       "      <th>999</th>\n",
       "      <td>4.26</td>\n",
       "      <td>1</td>\n",
       "      <td>False</td>\n",
       "      <td>True</td>\n",
       "      <td>False</td>\n",
       "      <td>False</td>\n",
       "    </tr>\n",
       "  </tbody>\n",
       "</table>\n",
       "<p>1000 rows × 6 columns</p>\n",
       "</div>"
      ],
      "text/plain": [
       "     Price  Profitability  MenuCategory_Appetizers  MenuCategory_Beverages  \\\n",
       "0     2.55              0                    False                    True   \n",
       "1    11.12              1                     True                   False   \n",
       "2    18.66              2                    False                   False   \n",
       "3    29.55              2                    False                   False   \n",
       "4    17.73              1                    False                   False   \n",
       "..     ...            ...                      ...                     ...   \n",
       "995   2.16              0                    False                    True   \n",
       "996  11.86              1                     True                   False   \n",
       "997  20.57              2                    False                   False   \n",
       "998  18.80              2                    False                   False   \n",
       "999   4.26              1                    False                    True   \n",
       "\n",
       "     MenuCategory_Desserts  MenuCategory_Main Course  \n",
       "0                    False                     False  \n",
       "1                    False                     False  \n",
       "2                     True                     False  \n",
       "3                    False                      True  \n",
       "4                    False                      True  \n",
       "..                     ...                       ...  \n",
       "995                  False                     False  \n",
       "996                  False                     False  \n",
       "997                  False                      True  \n",
       "998                   True                     False  \n",
       "999                  False                     False  \n",
       "\n",
       "[1000 rows x 6 columns]"
      ]
     },
     "execution_count": 16,
     "metadata": {},
     "output_type": "execute_result"
    }
   ],
   "source": [
    "# data = pd.get_dummies(data, columns=[\"MenuItem\"])\n",
    "# data = pd.get_dummies(data, columns=[\"RestaurantID\"])\n",
    "\n",
    "data = pd.get_dummies(data, columns=[\"MenuCategory\"])\n",
    "\n",
    "# data[\"MenuCategory\"].replace({\"Beverages\":0, \"Appetizers\":1, \"Desserts\":2, \"Main Course\": 3}, inplace=True)\n",
    "# data.replace({False: 0, True: 1}, inplace=True)\n",
    "\n",
    "data"
   ]
  },
  {
   "cell_type": "code",
   "execution_count": 17,
   "id": "a377d354-6c02-453f-9cb6-1a5470c0b780",
   "metadata": {},
   "outputs": [],
   "source": [
    "y = data[\"Profitability\"]\n",
    "X = data.drop([\"Profitability\"], axis=1)"
   ]
  },
  {
   "cell_type": "code",
   "execution_count": 18,
   "id": "e8e6eb39-183f-4f0d-9cae-44499d47c601",
   "metadata": {},
   "outputs": [],
   "source": [
    "scaler = StandardScaler()\n",
    "X_scaled = scaler.fit_transform(X)"
   ]
  },
  {
   "cell_type": "code",
   "execution_count": 19,
   "id": "514cdb0d-29eb-4a38-bbcb-60af2cd53993",
   "metadata": {},
   "outputs": [],
   "source": [
    "X_train, X_test, y_train, y_test = train_test_split(X_scaled, y, random_state=42)"
   ]
  },
  {
   "cell_type": "markdown",
   "id": "1006e065-9a5a-4015-8149-fc9324a79189",
   "metadata": {},
   "source": [
    "## Modeling "
   ]
  },
  {
   "cell_type": "markdown",
   "id": "c8b8dc3d-5543-4f3d-b9a6-ee09bec66ae2",
   "metadata": {},
   "source": [
    "### Decision Tree"
   ]
  },
  {
   "cell_type": "code",
   "execution_count": 20,
   "id": "f9a804f4-b44e-4b99-ae9e-6914162a738b",
   "metadata": {},
   "outputs": [
    {
     "name": "stdout",
     "output_type": "stream",
     "text": [
      "Real value is     0 | The predicted value is     1\n",
      "Real value is     1 | The predicted value is     1\n",
      "Real value is     1 | The predicted value is     1\n",
      "Real value is     2 | The predicted value is     1\n",
      "Real value is     1 | The predicted value is     1\n",
      "Real value is     1 | The predicted value is     1\n",
      "Real value is     0 | The predicted value is     0\n",
      "Real value is     2 | The predicted value is     2\n",
      "Real value is     1 | The predicted value is     1\n",
      "Real value is     1 | The predicted value is     1\n"
     ]
    }
   ],
   "source": [
    "decisionTree_model = DecisionTreeClassifier()\n",
    "decisionTree_model.fit(X_train, y_train)\n",
    "\n",
    "decisionTree_y_pred = decisionTree_model.predict(X_test)\n",
    "\n",
    "for index, (real_value, predicted_value) in zip(range(10), zip(y_test, decisionTree_y_pred)):    \n",
    "    print(f\"Real value is {str(round(real_value)).rjust(5)} | The predicted value is {str(round(predicted_value)).rjust(5)}\")"
   ]
  },
  {
   "cell_type": "code",
   "execution_count": 21,
   "id": "9869e2c5-241d-49f9-ba42-cf6ae3ee89f6",
   "metadata": {},
   "outputs": [
    {
     "data": {
      "text/plain": [
       "array([[ 16,   9,   5],\n",
       "       [  4, 114,   6],\n",
       "       [  5,  11,  80]], dtype=int64)"
      ]
     },
     "execution_count": 21,
     "metadata": {},
     "output_type": "execute_result"
    }
   ],
   "source": [
    "confusion_matrix(y_test, decisionTree_y_pred)"
   ]
  },
  {
   "cell_type": "code",
   "execution_count": 22,
   "id": "4836fa8e-e0b4-44c2-9b0c-15b4abf4d867",
   "metadata": {},
   "outputs": [
    {
     "data": {
      "text/plain": [
       "0.84"
      ]
     },
     "execution_count": 22,
     "metadata": {},
     "output_type": "execute_result"
    }
   ],
   "source": [
    "accuracy_score(y_test, decisionTree_y_pred)"
   ]
  },
  {
   "cell_type": "markdown",
   "id": "3cf485f9-f3f7-4ab4-9af2-3b98717ea869",
   "metadata": {},
   "source": [
    "### Random Forest"
   ]
  },
  {
   "cell_type": "code",
   "execution_count": 23,
   "id": "db3a9c71-f6a3-4622-b051-ddc1d9071d20",
   "metadata": {},
   "outputs": [
    {
     "name": "stdout",
     "output_type": "stream",
     "text": [
      "Real value is     0 | The predicted value is     1\n",
      "Real value is     1 | The predicted value is     1\n",
      "Real value is     1 | The predicted value is     1\n",
      "Real value is     2 | The predicted value is     1\n",
      "Real value is     1 | The predicted value is     1\n",
      "Real value is     1 | The predicted value is     1\n",
      "Real value is     0 | The predicted value is     0\n",
      "Real value is     2 | The predicted value is     2\n",
      "Real value is     1 | The predicted value is     1\n"
     ]
    }
   ],
   "source": [
    "randomForest_model = RandomForestClassifier(n_estimators=200, random_state=42)\n",
    "randomForest_model.fit(X_train, y_train)\n",
    "\n",
    "randomForest_y_pred = randomForest_model.predict(X_test)\n",
    "\n",
    "for index, (real_value, predicted_value) in zip(range(1, 10), zip(y_test, randomForest_y_pred)):        \n",
    "    print(f\"Real value is {str(round(real_value)).rjust(5)} | The predicted value is {str(round(predicted_value)).rjust(5)}\")"
   ]
  },
  {
   "cell_type": "code",
   "execution_count": 24,
   "id": "185e508f-bcbd-4e47-b4da-2e4c49c84dcc",
   "metadata": {},
   "outputs": [
    {
     "data": {
      "text/plain": [
       "array([[ 16,   9,   5],\n",
       "       [  3, 115,   6],\n",
       "       [  4,  11,  81]], dtype=int64)"
      ]
     },
     "execution_count": 24,
     "metadata": {},
     "output_type": "execute_result"
    }
   ],
   "source": [
    "confusion_matrix(y_test, randomForest_y_pred)"
   ]
  },
  {
   "cell_type": "code",
   "execution_count": 25,
   "id": "2ca88698-3ddc-46f8-afeb-1eec776f82cf",
   "metadata": {},
   "outputs": [
    {
     "data": {
      "text/plain": [
       "0.848"
      ]
     },
     "execution_count": 25,
     "metadata": {},
     "output_type": "execute_result"
    }
   ],
   "source": [
    "accuracy_score(y_test, randomForest_y_pred)"
   ]
  },
  {
   "cell_type": "markdown",
   "id": "53739c1a-e011-4a9a-9982-cbbdedd92124",
   "metadata": {},
   "source": [
    "### KNeighbors "
   ]
  },
  {
   "cell_type": "code",
   "execution_count": 26,
   "id": "ad30d06e-ef3c-4323-821f-9f3baa6ad58f",
   "metadata": {},
   "outputs": [
    {
     "name": "stdout",
     "output_type": "stream",
     "text": [
      "Real value is     0 | The predicted value is     1\n",
      "Real value is     1 | The predicted value is     1\n",
      "Real value is     1 | The predicted value is     1\n",
      "Real value is     2 | The predicted value is     2\n",
      "Real value is     1 | The predicted value is     1\n",
      "Real value is     1 | The predicted value is     1\n",
      "Real value is     0 | The predicted value is     0\n",
      "Real value is     2 | The predicted value is     2\n",
      "Real value is     1 | The predicted value is     1\n"
     ]
    }
   ],
   "source": [
    "knn_classifier = KNeighborsClassifier(n_neighbors=5)\n",
    "knn_classifier.fit(X_train, y_train)\n",
    "knn_y_pred = knn_classifier.predict(X_test)\n",
    "\n",
    "for index, (real_value, predicted_value) in zip(range(1, 10), zip(y_test, knn_y_pred)):        \n",
    "    print(f\"Real value is {str(round(real_value)).rjust(5)} | The predicted value is {str(round(predicted_value)).rjust(5)}\")"
   ]
  },
  {
   "cell_type": "code",
   "execution_count": 27,
   "id": "4418d40a-68e4-4901-bb62-cedac38b6de8",
   "metadata": {},
   "outputs": [
    {
     "data": {
      "text/plain": [
       "array([[ 16,   8,   6],\n",
       "       [  0, 120,   4],\n",
       "       [  2,   5,  89]], dtype=int64)"
      ]
     },
     "execution_count": 27,
     "metadata": {},
     "output_type": "execute_result"
    }
   ],
   "source": [
    "confusion_matrix(y_test, knn_y_pred)"
   ]
  },
  {
   "cell_type": "code",
   "execution_count": 28,
   "id": "377702ac-c961-41b9-9fab-6676e03e73c4",
   "metadata": {},
   "outputs": [
    {
     "data": {
      "text/plain": [
       "0.9"
      ]
     },
     "execution_count": 28,
     "metadata": {},
     "output_type": "execute_result"
    }
   ],
   "source": [
    "accuracy_score(y_test, knn_y_pred)"
   ]
  },
  {
   "cell_type": "code",
   "execution_count": null,
   "id": "247fb297-8c74-490e-b11e-324c0e583b2a",
   "metadata": {},
   "outputs": [],
   "source": []
  }
 ],
 "metadata": {
  "kernelspec": {
   "display_name": "Python 3 (ipykernel)",
   "language": "python",
   "name": "python3"
  },
  "language_info": {
   "codemirror_mode": {
    "name": "ipython",
    "version": 3
   },
   "file_extension": ".py",
   "mimetype": "text/x-python",
   "name": "python",
   "nbconvert_exporter": "python",
   "pygments_lexer": "ipython3",
   "version": "3.12.4"
  }
 },
 "nbformat": 4,
 "nbformat_minor": 5
}
