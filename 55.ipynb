{
 "cells": [
  {
   "cell_type": "markdown",
   "metadata": {},
   "source": [
    "### Installing Numpy\n",
    "* conda install numpy\n",
    "*   pip install numpy"
   ]
  },
  {
   "cell_type": "code",
   "execution_count": 11,
   "metadata": {},
   "outputs": [],
   "source": [
    "import numpy as np"
   ]
  },
  {
   "cell_type": "code",
   "execution_count": 12,
   "metadata": {},
   "outputs": [
    {
     "data": {
      "text/plain": [
       "array([[1.5, 2. , 0. ],\n",
       "       [5. , 1. , 3. ]])"
      ]
     },
     "execution_count": 12,
     "metadata": {},
     "output_type": "execute_result"
    }
   ],
   "source": [
    "a=np.array([[1.5,2,0],[5,1,3]])\n",
    "a"
   ]
  },
  {
   "cell_type": "code",
   "execution_count": 13,
   "metadata": {},
   "outputs": [
    {
     "data": {
      "text/plain": [
       "(2, 3)"
      ]
     },
     "execution_count": 13,
     "metadata": {},
     "output_type": "execute_result"
    }
   ],
   "source": [
    "a.shape"
   ]
  },
  {
   "cell_type": "code",
   "execution_count": 14,
   "metadata": {},
   "outputs": [
    {
     "data": {
      "text/plain": [
       "2"
      ]
     },
     "execution_count": 14,
     "metadata": {},
     "output_type": "execute_result"
    }
   ],
   "source": [
    "a.ndim"
   ]
  },
  {
   "cell_type": "code",
   "execution_count": 15,
   "metadata": {},
   "outputs": [
    {
     "data": {
      "text/plain": [
       "array([[1, 2],\n",
       "       [2, 3]])"
      ]
     },
     "execution_count": 15,
     "metadata": {},
     "output_type": "execute_result"
    }
   ],
   "source": [
    "a=np.array([[1.5,2],[2,3]],dtype=int)\n",
    "a"
   ]
  },
  {
   "cell_type": "code",
   "execution_count": 16,
   "metadata": {},
   "outputs": [
    {
     "data": {
      "text/plain": [
       "numpy.ndarray"
      ]
     },
     "execution_count": 16,
     "metadata": {},
     "output_type": "execute_result"
    }
   ],
   "source": [
    "type(a)"
   ]
  },
  {
   "cell_type": "code",
   "execution_count": 17,
   "metadata": {},
   "outputs": [
    {
     "data": {
      "text/plain": [
       "array([[0., 0., 0.]])"
      ]
     },
     "execution_count": 17,
     "metadata": {},
     "output_type": "execute_result"
    }
   ],
   "source": [
    "np.zeros([1,3])"
   ]
  },
  {
   "cell_type": "code",
   "execution_count": 18,
   "metadata": {},
   "outputs": [
    {
     "data": {
      "text/plain": [
       "array([[1., 1., 1.],\n",
       "       [1., 1., 1.]])"
      ]
     },
     "execution_count": 18,
     "metadata": {},
     "output_type": "execute_result"
    }
   ],
   "source": [
    "np.ones([2,3])"
   ]
  },
  {
   "cell_type": "markdown",
   "metadata": {},
   "source": [
    "**Slicing**"
   ]
  },
  {
   "cell_type": "code",
   "execution_count": 19,
   "metadata": {},
   "outputs": [
    {
     "data": {
      "text/plain": [
       "[1, 1, 3, 5, 3, 1, 3, 4]"
      ]
     },
     "execution_count": 19,
     "metadata": {},
     "output_type": "execute_result"
    }
   ],
   "source": [
    "a=[1,1,3,5,3,1,3,4]\n",
    "a"
   ]
  },
  {
   "cell_type": "code",
   "execution_count": 20,
   "metadata": {},
   "outputs": [
    {
     "data": {
      "text/plain": [
       "[1, 3, 5, 3]"
      ]
     },
     "execution_count": 20,
     "metadata": {},
     "output_type": "execute_result"
    }
   ],
   "source": [
    "a[1:5]"
   ]
  },
  {
   "cell_type": "code",
   "execution_count": 21,
   "metadata": {},
   "outputs": [
    {
     "data": {
      "text/plain": [
       "array([1, 3, 5, 3])"
      ]
     },
     "execution_count": 21,
     "metadata": {},
     "output_type": "execute_result"
    }
   ],
   "source": [
    "a=np.array(a)\n",
    "a[1:5]"
   ]
  },
  {
   "cell_type": "code",
   "execution_count": 22,
   "metadata": {},
   "outputs": [
    {
     "data": {
      "text/plain": [
       "'Aya'"
      ]
     },
     "execution_count": 22,
     "metadata": {},
     "output_type": "execute_result"
    }
   ],
   "source": [
    "cc=\"hello, my name is Aya\"\n",
    "cc[-3:]"
   ]
  },
  {
   "cell_type": "code",
   "execution_count": 23,
   "metadata": {},
   "outputs": [
    {
     "name": "stdout",
     "output_type": "stream",
     "text": [
      "Original array: [1 2 3 4 5]\n",
      "Element at index 0: 1\n",
      "Slice of the array: [2 3 4]\n",
      "Sum of the array elements: 15\n",
      "Mean of the array elements: 3.0\n",
      "Maximum element in the array: 5\n",
      "Minimum element in the array: 1\n"
     ]
    }
   ],
   "source": [
    "# Creating a NumPy array from a Python list\n",
    "my_list = [1, 2, 3, 4, 5]\n",
    "my_array = np.array(my_list)\n",
    "\n",
    "# Basic array operations\n",
    "print(\"Original array:\", my_array)\n",
    "\n",
    "# Accessing elements of the array\n",
    "print(\"Element at index 0:\", my_array[0])\n",
    "print(\"Slice of the array:\", my_array[1:4])\n",
    "\n",
    "# Array operations\n",
    "print(\"Sum of the array elements:\", np.sum(my_array))\n",
    "print(\"Mean of the array elements:\", np.mean(my_array))\n",
    "print(\"Maximum element in the array:\", np.max(my_array))\n",
    "print(\"Minimum element in the array:\", np.min(my_array))\n"
   ]
  },
  {
   "cell_type": "markdown",
   "metadata": {},
   "source": [
    "**EXERCISE** In this exercise, baseball is a list of lists. The main list contains 6 elements. Each of these elements is a list containing the height and the weight of 6 baseball players, in this order. baseball is already coded for you in the script.\n"
   ]
  },
  {
   "cell_type": "code",
   "execution_count": 24,
   "metadata": {},
   "outputs": [],
   "source": [
    "baseball = [[180, 78.4],\n",
    "            [215, 102.7],\n",
    "            [210, 98.5],\n",
    "            [188, 75.2],\n",
    "            [180, 90],\n",
    "            [190, 95]]\n",
    "# Create a 2D numpy array from baseball: np_baseball\n",
    "\n",
    "\n",
    "# Print out the type of np_baseball\n",
    "\n",
    "# Print out the shape of np_baseball\n",
    "\n",
    "# Print out the 5th row of np_baseball\n",
    "\n",
    "# Select the entire second column of np_baseball and name it np_weight_lb\n",
    "\n",
    "# Print out height of 3rd player\n",
    "\n",
    "#get maximum weight\n",
    "\n",
    "#get mean of hights"
   ]
  },
  {
   "cell_type": "code",
   "execution_count": 25,
   "metadata": {},
   "outputs": [],
   "source": [
    "x=np.array([20, 25,30, 35, 40, 45, 50, 55, 60, 65 ])\n",
    "y=np.array([0.5,1.8,5,6.2,6,6.5,7.8,9.4,9.8,10.9])"
   ]
  },
  {
   "cell_type": "code",
   "execution_count": 26,
   "metadata": {},
   "outputs": [],
   "source": [
    "# if x is list \n",
    "\n",
    "def IQR(vector_x):\n",
    "    vector_x.sort()\n",
    "    q2_idx = len(vector_x)//2\n",
    "    q1_idx = q2_idx//2\n",
    "    q3_idx = q2_idx+(len(vector_x)-q2_idx)//2\n",
    "    iqr = vector_x[q3_idx] - vector_x[q1_idx]\n",
    "    outliers = []\n",
    "    extrem_outiers = []\n",
    "    for i in range(len(vector_x)):\n",
    "        \n",
    "        if (vector_x[i] > vector_x[q3_idx]+iqr*1.5 and vector_x[i] <= vector_x[q3_idx] + 3*iqr) or (vector_x[i] < vector_x[q1_idx]-iqr*1.5 and vector_x[i] >= vector_x[q1_idx] - 3*iqr ):\n",
    "            outliers.append(vector_x[i])\n",
    "            \n",
    "        if vector_x[i] > vector_x[q3_idx] + 3*iqr or vector_x[i] < vector_x[q1_idx] - 3*iqr:\n",
    "            extrem_outiers.append(vector_x[i])\n",
    "            \n",
    "    return vector_x[q1_idx] , vector_x[q2_idx] , vector_x[q3_idx] , iqr , outliers , extrem_outiers\n",
    "    "
   ]
  },
  {
   "cell_type": "code",
   "execution_count": 27,
   "metadata": {},
   "outputs": [
    {
     "name": "stdout",
     "output_type": "stream",
     "text": [
      "Q1: 30\n",
      "Q2: 45\n",
      "Q3: 55\n",
      "IQR: 25\n",
      "outliers: []\n",
      "extreme_outliers: []\n"
     ]
    }
   ],
   "source": [
    "q1, q2, q3, iqr, outliers, extreme_outliers = IQR(x)\n",
    "print(\"Q1:\",q1)\n",
    "print(\"Q2:\",q2)\n",
    "print(\"Q3:\",q3)\n",
    "print(\"IQR:\",iqr)\n",
    "print(\"outliers:\",outliers)\n",
    "print(\"extreme_outliers:\",extreme_outliers)"
   ]
  },
  {
   "cell_type": "code",
   "execution_count": 28,
   "metadata": {},
   "outputs": [],
   "source": [
    "np_baseball = np.array(baseball)"
   ]
  },
  {
   "cell_type": "code",
   "execution_count": 39,
   "metadata": {},
   "outputs": [],
   "source": [
    "import numpy as np"
   ]
  },
  {
   "cell_type": "code",
   "execution_count": 40,
   "metadata": {},
   "outputs": [],
   "source": [
    "np_baseball = np.array(baseball)"
   ]
  },
  {
   "cell_type": "code",
   "execution_count": 41,
   "metadata": {},
   "outputs": [
    {
     "name": "stdout",
     "output_type": "stream",
     "text": [
      "<class 'numpy.ndarray'>\n"
     ]
    }
   ],
   "source": [
    "print( type(np_baseball))"
   ]
  },
  {
   "cell_type": "code",
   "execution_count": 42,
   "metadata": {},
   "outputs": [
    {
     "name": "stdout",
     "output_type": "stream",
     "text": [
      "(6, 2)\n"
     ]
    }
   ],
   "source": [
    "print( np_baseball.shape)"
   ]
  },
  {
   "cell_type": "code",
   "execution_count": 48,
   "metadata": {},
   "outputs": [
    {
     "name": "stdout",
     "output_type": "stream",
     "text": [
      "[180.  90.]\n"
     ]
    }
   ],
   "source": [
    "print(np_baseball[4])"
   ]
  },
  {
   "cell_type": "code",
   "execution_count": 49,
   "metadata": {},
   "outputs": [
    {
     "name": "stdout",
     "output_type": "stream",
     "text": [
      "[ 78.4 102.7  98.5  75.2  90.   95. ]\n"
     ]
    }
   ],
   "source": [
    "np_weight_lb = np_baseball[:, 1]\n",
    "print( np_weight_lb)"
   ]
  },
  {
   "cell_type": "code",
   "execution_count": 50,
   "metadata": {},
   "outputs": [
    {
     "name": "stdout",
     "output_type": "stream",
     "text": [
      "210.0\n"
     ]
    }
   ],
   "source": [
    "print( np_baseball[2, 0])"
   ]
  },
  {
   "cell_type": "code",
   "execution_count": 51,
   "metadata": {},
   "outputs": [
    {
     "name": "stdout",
     "output_type": "stream",
     "text": [
      "102.7\n"
     ]
    }
   ],
   "source": [
    "max_weight = np_weight_lb.max()\n",
    "print( max_weight)"
   ]
  },
  {
   "cell_type": "code",
   "execution_count": 47,
   "metadata": {},
   "outputs": [
    {
     "name": "stdout",
     "output_type": "stream",
     "text": [
      "193.83333333333334\n"
     ]
    }
   ],
   "source": [
    "mean_height = np_baseball[:, 0].mean()\n",
    "print( mean_height)"
   ]
  },
  {
   "cell_type": "code",
   "execution_count": null,
   "metadata": {},
   "outputs": [],
   "source": []
  },
  {
   "cell_type": "code",
   "execution_count": null,
   "metadata": {},
   "outputs": [],
   "source": []
  }
 ],
 "metadata": {
  "kernelspec": {
   "display_name": "Python 3 (ipykernel)",
   "language": "python",
   "name": "python3"
  },
  "language_info": {
   "codemirror_mode": {
    "name": "ipython",
    "version": 3
   },
   "file_extension": ".py",
   "mimetype": "text/x-python",
   "name": "python",
   "nbconvert_exporter": "python",
   "pygments_lexer": "ipython3",
   "version": "3.9.7"
  }
 },
 "nbformat": 4,
 "nbformat_minor": 2
}
